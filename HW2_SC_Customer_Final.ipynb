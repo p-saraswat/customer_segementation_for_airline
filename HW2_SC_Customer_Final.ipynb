{
 "cells": [
  {
   "cell_type": "code",
   "execution_count": null,
   "id": "06fc9d95",
   "metadata": {
    "id": "06fc9d95"
   },
   "outputs": [],
   "source": [
    "import pandas as pd\n",
    "import numpy as np\n",
    "import matplotlib.pyplot as plt\n",
    "import seaborn as sns\n",
    "import warnings\n",
    "import missingno as msno\n",
    "from datetime import date\n",
    "\n",
    "warnings.filterwarnings('ignore')\n",
    "%matplotlib inline"
   ]
  },
  {
   "cell_type": "code",
   "execution_count": null,
   "id": "c0a3d6dc",
   "metadata": {
    "id": "c0a3d6dc",
    "outputId": "44287ace-85b1-4280-b477-2d808b1d4e33"
   },
   "outputs": [
    {
     "data": {
      "text/html": [
       "<div>\n",
       "<style scoped>\n",
       "    .dataframe tbody tr th:only-of-type {\n",
       "        vertical-align: middle;\n",
       "    }\n",
       "\n",
       "    .dataframe tbody tr th {\n",
       "        vertical-align: top;\n",
       "    }\n",
       "\n",
       "    .dataframe thead th {\n",
       "        text-align: right;\n",
       "    }\n",
       "</style>\n",
       "<table border=\"1\" class=\"dataframe\">\n",
       "  <thead>\n",
       "    <tr style=\"text-align: right;\">\n",
       "      <th></th>\n",
       "      <th>PNRLocatorID</th>\n",
       "      <th>TicketNum</th>\n",
       "      <th>CouponSeqNbr</th>\n",
       "      <th>ServiceStartCity</th>\n",
       "      <th>ServiceEndCity</th>\n",
       "      <th>PNRCreateDate</th>\n",
       "      <th>ServiceStartDate</th>\n",
       "      <th>PaxName</th>\n",
       "      <th>EncryptedName</th>\n",
       "      <th>GenderCode</th>\n",
       "      <th>...</th>\n",
       "      <th>BaseFareAmt</th>\n",
       "      <th>TotalDocAmt</th>\n",
       "      <th>UFlyRewardsNumber</th>\n",
       "      <th>UflyMemberStatus</th>\n",
       "      <th>CardHolder</th>\n",
       "      <th>BookedProduct</th>\n",
       "      <th>EnrollDate</th>\n",
       "      <th>MarketingFlightNbr</th>\n",
       "      <th>MarketingAirlineCode</th>\n",
       "      <th>StopoverCode</th>\n",
       "    </tr>\n",
       "  </thead>\n",
       "  <tbody>\n",
       "    <tr>\n",
       "      <th>0</th>\n",
       "      <td>AAABJK</td>\n",
       "      <td>3377365159634</td>\n",
       "      <td>2</td>\n",
       "      <td>JFK</td>\n",
       "      <td>MSP</td>\n",
       "      <td>2013-11-23</td>\n",
       "      <td>2013-12-13</td>\n",
       "      <td>BRUMSA</td>\n",
       "      <td>4252554D4241434B44696420493F7C2067657420746869...</td>\n",
       "      <td>F</td>\n",
       "      <td>...</td>\n",
       "      <td>234.20</td>\n",
       "      <td>0.0</td>\n",
       "      <td>NaN</td>\n",
       "      <td>NaN</td>\n",
       "      <td>NaN</td>\n",
       "      <td>CHEOPQ</td>\n",
       "      <td>NaN</td>\n",
       "      <td>244</td>\n",
       "      <td>SY</td>\n",
       "      <td>O</td>\n",
       "    </tr>\n",
       "    <tr>\n",
       "      <th>1</th>\n",
       "      <td>AAABJK</td>\n",
       "      <td>3377365159634</td>\n",
       "      <td>1</td>\n",
       "      <td>MSP</td>\n",
       "      <td>JFK</td>\n",
       "      <td>2013-11-23</td>\n",
       "      <td>2013-12-08</td>\n",
       "      <td>BRUMSA</td>\n",
       "      <td>4252554D4241434B44696420493F7C2067657420746869...</td>\n",
       "      <td>F</td>\n",
       "      <td>...</td>\n",
       "      <td>234.20</td>\n",
       "      <td>0.0</td>\n",
       "      <td>NaN</td>\n",
       "      <td>NaN</td>\n",
       "      <td>NaN</td>\n",
       "      <td>CHEOPQ</td>\n",
       "      <td>NaN</td>\n",
       "      <td>243</td>\n",
       "      <td>SY</td>\n",
       "      <td>NaN</td>\n",
       "    </tr>\n",
       "    <tr>\n",
       "      <th>2</th>\n",
       "      <td>AAABMK</td>\n",
       "      <td>3372107381942</td>\n",
       "      <td>2</td>\n",
       "      <td>MSP</td>\n",
       "      <td>SFO</td>\n",
       "      <td>2014-02-04</td>\n",
       "      <td>2014-02-23</td>\n",
       "      <td>EILDRY</td>\n",
       "      <td>45494C4445525344696420493F7C206765742074686973...</td>\n",
       "      <td>M</td>\n",
       "      <td>...</td>\n",
       "      <td>293.96</td>\n",
       "      <td>338.0</td>\n",
       "      <td>NaN</td>\n",
       "      <td>NaN</td>\n",
       "      <td>NaN</td>\n",
       "      <td>NaN</td>\n",
       "      <td>NaN</td>\n",
       "      <td>397</td>\n",
       "      <td>SY</td>\n",
       "      <td>O</td>\n",
       "    </tr>\n",
       "    <tr>\n",
       "      <th>3</th>\n",
       "      <td>AAABMK</td>\n",
       "      <td>3372107381942</td>\n",
       "      <td>1</td>\n",
       "      <td>SFO</td>\n",
       "      <td>MSP</td>\n",
       "      <td>2014-02-04</td>\n",
       "      <td>2014-02-20</td>\n",
       "      <td>EILDRY</td>\n",
       "      <td>45494C4445525344696420493F7C206765742074686973...</td>\n",
       "      <td>M</td>\n",
       "      <td>...</td>\n",
       "      <td>293.96</td>\n",
       "      <td>338.0</td>\n",
       "      <td>NaN</td>\n",
       "      <td>NaN</td>\n",
       "      <td>NaN</td>\n",
       "      <td>NaN</td>\n",
       "      <td>NaN</td>\n",
       "      <td>392</td>\n",
       "      <td>SY</td>\n",
       "      <td>NaN</td>\n",
       "    </tr>\n",
       "    <tr>\n",
       "      <th>4</th>\n",
       "      <td>AAABTP</td>\n",
       "      <td>3372107470782</td>\n",
       "      <td>1</td>\n",
       "      <td>MCO</td>\n",
       "      <td>MSP</td>\n",
       "      <td>2014-03-13</td>\n",
       "      <td>2014-04-23</td>\n",
       "      <td>SKELMA</td>\n",
       "      <td>534B454C544F4E44696420493F7C206765742074686973...</td>\n",
       "      <td>F</td>\n",
       "      <td>...</td>\n",
       "      <td>112.56</td>\n",
       "      <td>132.0</td>\n",
       "      <td>NaN</td>\n",
       "      <td>NaN</td>\n",
       "      <td>NaN</td>\n",
       "      <td>NaN</td>\n",
       "      <td>NaN</td>\n",
       "      <td>342</td>\n",
       "      <td>SY</td>\n",
       "      <td>NaN</td>\n",
       "    </tr>\n",
       "  </tbody>\n",
       "</table>\n",
       "<p>5 rows × 26 columns</p>\n",
       "</div>"
      ],
      "text/plain": [
       "  PNRLocatorID      TicketNum  CouponSeqNbr ServiceStartCity ServiceEndCity  \\\n",
       "0       AAABJK  3377365159634             2              JFK            MSP   \n",
       "1       AAABJK  3377365159634             1              MSP            JFK   \n",
       "2       AAABMK  3372107381942             2              MSP            SFO   \n",
       "3       AAABMK  3372107381942             1              SFO            MSP   \n",
       "4       AAABTP  3372107470782             1              MCO            MSP   \n",
       "\n",
       "  PNRCreateDate ServiceStartDate PaxName  \\\n",
       "0    2013-11-23       2013-12-13  BRUMSA   \n",
       "1    2013-11-23       2013-12-08  BRUMSA   \n",
       "2    2014-02-04       2014-02-23  EILDRY   \n",
       "3    2014-02-04       2014-02-20  EILDRY   \n",
       "4    2014-03-13       2014-04-23  SKELMA   \n",
       "\n",
       "                                       EncryptedName GenderCode  ...  \\\n",
       "0  4252554D4241434B44696420493F7C2067657420746869...          F  ...   \n",
       "1  4252554D4241434B44696420493F7C2067657420746869...          F  ...   \n",
       "2  45494C4445525344696420493F7C206765742074686973...          M  ...   \n",
       "3  45494C4445525344696420493F7C206765742074686973...          M  ...   \n",
       "4  534B454C544F4E44696420493F7C206765742074686973...          F  ...   \n",
       "\n",
       "   BaseFareAmt  TotalDocAmt UFlyRewardsNumber UflyMemberStatus CardHolder  \\\n",
       "0       234.20          0.0               NaN              NaN        NaN   \n",
       "1       234.20          0.0               NaN              NaN        NaN   \n",
       "2       293.96        338.0               NaN              NaN        NaN   \n",
       "3       293.96        338.0               NaN              NaN        NaN   \n",
       "4       112.56        132.0               NaN              NaN        NaN   \n",
       "\n",
       "  BookedProduct  EnrollDate  MarketingFlightNbr  MarketingAirlineCode  \\\n",
       "0        CHEOPQ         NaN                 244                    SY   \n",
       "1        CHEOPQ         NaN                 243                    SY   \n",
       "2           NaN         NaN                 397                    SY   \n",
       "3           NaN         NaN                 392                    SY   \n",
       "4           NaN         NaN                 342                    SY   \n",
       "\n",
       "  StopoverCode  \n",
       "0            O  \n",
       "1          NaN  \n",
       "2            O  \n",
       "3          NaN  \n",
       "4          NaN  \n",
       "\n",
       "[5 rows x 26 columns]"
      ]
     },
     "execution_count": 219,
     "metadata": {},
     "output_type": "execute_result"
    }
   ],
   "source": [
    "# Loading the raw data\n",
    "df = pd.read_csv('S:/Fall/xyz_airline.csv')\n",
    "df.head()"
   ]
  },
  {
   "cell_type": "code",
   "execution_count": null,
   "id": "c18057c4",
   "metadata": {
    "id": "c18057c4",
    "outputId": "4bca00ee-ad51-4e53-bad9-4ae72cb5033c"
   },
   "outputs": [
    {
     "data": {
      "text/html": [
       "<div>\n",
       "<style scoped>\n",
       "    .dataframe tbody tr th:only-of-type {\n",
       "        vertical-align: middle;\n",
       "    }\n",
       "\n",
       "    .dataframe tbody tr th {\n",
       "        vertical-align: top;\n",
       "    }\n",
       "\n",
       "    .dataframe thead th {\n",
       "        text-align: right;\n",
       "    }\n",
       "</style>\n",
       "<table border=\"1\" class=\"dataframe\">\n",
       "  <thead>\n",
       "    <tr style=\"text-align: right;\">\n",
       "      <th></th>\n",
       "      <th>origin</th>\n",
       "      <th>dest</th>\n",
       "      <th>miles</th>\n",
       "    </tr>\n",
       "  </thead>\n",
       "  <tbody>\n",
       "    <tr>\n",
       "      <th>0</th>\n",
       "      <td>JFK</td>\n",
       "      <td>MSP</td>\n",
       "      <td>1028</td>\n",
       "    </tr>\n",
       "    <tr>\n",
       "      <th>1</th>\n",
       "      <td>MSP</td>\n",
       "      <td>JFK</td>\n",
       "      <td>1028</td>\n",
       "    </tr>\n",
       "    <tr>\n",
       "      <th>2</th>\n",
       "      <td>MSP</td>\n",
       "      <td>SFO</td>\n",
       "      <td>1589</td>\n",
       "    </tr>\n",
       "    <tr>\n",
       "      <th>3</th>\n",
       "      <td>SFO</td>\n",
       "      <td>MSP</td>\n",
       "      <td>1589</td>\n",
       "    </tr>\n",
       "    <tr>\n",
       "      <th>4</th>\n",
       "      <td>MCO</td>\n",
       "      <td>MSP</td>\n",
       "      <td>1310</td>\n",
       "    </tr>\n",
       "  </tbody>\n",
       "</table>\n",
       "</div>"
      ],
      "text/plain": [
       "  origin dest  miles\n",
       "0    JFK  MSP  1028 \n",
       "1    MSP  JFK  1028 \n",
       "2    MSP  SFO  1589 \n",
       "3    SFO  MSP  1589 \n",
       "4    MCO  MSP  1310 "
      ]
     },
     "execution_count": 220,
     "metadata": {},
     "output_type": "execute_result"
    }
   ],
   "source": [
    "# Miles.csv is a supporting file generated to capture the average route distance travelled in miles by \n",
    "# flights (typically Sun country fleet - Boeing 737-700)\n",
    "# Sourced from \"https://www.airmilescalculator.com/\"\n",
    "\n",
    "df_mile = pd.read_csv('S:/Fall/miles.csv', encoding='unicode_escape', usecols = [0,1,2])\n",
    "\n",
    "df_mile.head()"
   ]
  },
  {
   "cell_type": "markdown",
   "id": "7ed4a1a2",
   "metadata": {
    "id": "7ed4a1a2"
   },
   "source": [
    "# Part - A\n",
    "# Data Exploration"
   ]
  },
  {
   "cell_type": "code",
   "execution_count": null,
   "id": "4021c5af",
   "metadata": {
    "id": "4021c5af",
    "outputId": "9d885569-a633-4d32-d37d-6a0f2f277f5d"
   },
   "outputs": [
    {
     "name": "stdout",
     "output_type": "stream",
     "text": [
      "(3435388, 26)\n",
      "<class 'pandas.core.frame.DataFrame'>\n",
      "RangeIndex: 3435388 entries, 0 to 3435387\n",
      "Data columns (total 26 columns):\n",
      " #   Column                Dtype  \n",
      "---  ------                -----  \n",
      " 0   PNRLocatorID          object \n",
      " 1   TicketNum             int64  \n",
      " 2   CouponSeqNbr          int64  \n",
      " 3   ServiceStartCity      object \n",
      " 4   ServiceEndCity        object \n",
      " 5   PNRCreateDate         object \n",
      " 6   ServiceStartDate      object \n",
      " 7   PaxName               object \n",
      " 8   EncryptedName         object \n",
      " 9   GenderCode            object \n",
      " 10  birthdateid           float64\n",
      " 11  Age                   float64\n",
      " 12  PostalCode            object \n",
      " 13  BkdClassOfService     object \n",
      " 14  TrvldClassOfService   object \n",
      " 15  BookingChannel        object \n",
      " 16  BaseFareAmt           float64\n",
      " 17  TotalDocAmt           float64\n",
      " 18  UFlyRewardsNumber     float64\n",
      " 19  UflyMemberStatus      object \n",
      " 20  CardHolder            object \n",
      " 21  BookedProduct         object \n",
      " 22  EnrollDate            object \n",
      " 23  MarketingFlightNbr    object \n",
      " 24  MarketingAirlineCode  object \n",
      " 25  StopoverCode          object \n",
      "dtypes: float64(5), int64(2), object(19)\n",
      "memory usage: 681.5+ MB\n"
     ]
    }
   ],
   "source": [
    "print(df.shape)\n",
    "df.info()"
   ]
  },
  {
   "cell_type": "code",
   "execution_count": null,
   "id": "f8dd7ae6",
   "metadata": {
    "id": "f8dd7ae6",
    "outputId": "e7dbac06-bf17-480d-ae12-7a720d4d4178"
   },
   "outputs": [
    {
     "data": {
      "text/plain": [
       "PNRLocatorID                  0\n",
       "TicketNum                     0\n",
       "CouponSeqNbr                  0\n",
       "ServiceStartCity              0\n",
       "ServiceEndCity                0\n",
       "PNRCreateDate                 0\n",
       "ServiceStartDate              0\n",
       "PaxName                       0\n",
       "EncryptedName                 0\n",
       "GenderCode                43999\n",
       "birthdateid               43999\n",
       "Age                       43999\n",
       "PostalCode              2744995\n",
       "BkdClassOfService             0\n",
       "TrvldClassOfService           0\n",
       "BookingChannel                0\n",
       "BaseFareAmt                   0\n",
       "TotalDocAmt                   0\n",
       "UFlyRewardsNumber       2740908\n",
       "UflyMemberStatus        2740908\n",
       "CardHolder              2740908\n",
       "BookedProduct           2209904\n",
       "EnrollDate              2740908\n",
       "MarketingFlightNbr            0\n",
       "MarketingAirlineCode          0\n",
       "StopoverCode            1720454\n",
       "dtype: int64"
      ]
     },
     "execution_count": 223,
     "metadata": {},
     "output_type": "execute_result"
    }
   ],
   "source": [
    "df.isna().sum()"
   ]
  },
  {
   "cell_type": "code",
   "execution_count": null,
   "id": "92c54aab",
   "metadata": {
    "id": "92c54aab",
    "outputId": "71ff05bb-02ba-493f-f800-2c75c3ddbdcb"
   },
   "outputs": [
    {
     "data": {
      "text/plain": [
       "<AxesSubplot:>"
      ]
     },
     "execution_count": 224,
     "metadata": {},
     "output_type": "execute_result"
    },
    {
     "data": {
      "image/png": "[encoded data removed]",
      "text/plain": [
       "<Figure size 1728x720 with 3 Axes>"
      ]
     },
     "metadata": {
      "needs_background": "light"
     },
     "output_type": "display_data"
    }
   ],
   "source": [
    "msno.bar(df)"
   ]
  },
  {
   "cell_type": "markdown",
   "id": "c0ee46ba",
   "metadata": {
    "id": "c0ee46ba"
   },
   "source": [
    "# Part - B\n",
    "# Data Cleaning and wrangling\n",
    "\n",
    "## Objective is to tranform the transaction level raw data into customer profiles "
   ]
  },
  {
   "cell_type": "code",
   "execution_count": null,
   "id": "a60074cc",
   "metadata": {
    "id": "a60074cc"
   },
   "outputs": [],
   "source": [
    "# Dropping the columns that are irrelevant or if contain high null values \n",
    "\n",
    "drop_cols = ['PostalCode', 'UFlyRewardsNumber','MarketingFlightNbr', 'StopoverCode']\n",
    "df.drop(drop_cols, axis = 1, inplace = True)"
   ]
  },
  {
   "cell_type": "code",
   "execution_count": null,
   "id": "a5b9941f",
   "metadata": {
    "id": "a5b9941f",
    "outputId": "8f5b39b5-3470-4a9d-9045-91023f1908ec"
   },
   "outputs": [
    {
     "data": {
      "text/plain": [
       "(3430350, 22)"
      ]
     },
     "execution_count": 226,
     "metadata": {},
     "output_type": "execute_result"
    }
   ],
   "source": [
    "# Filter only SY flights as we are considering only these records \n",
    "\n",
    "df = df.loc[df['MarketingAirlineCode'] == 'SY']\n",
    "df.shape"
   ]
  },
  {
   "cell_type": "code",
   "execution_count": null,
   "id": "92ff1ff3",
   "metadata": {
    "id": "92ff1ff3"
   },
   "outputs": [],
   "source": [
    "#Converting date columns to datettime\n",
    "date_cols = ['PNRCreateDate', 'ServiceStartDate', 'EnrollDate']\n",
    "for date in date_cols:\n",
    "    df[date] = pd.to_datetime(df[date])"
   ]
  },
  {
   "cell_type": "code",
   "execution_count": null,
   "id": "be67cccf",
   "metadata": {
    "id": "be67cccf"
   },
   "outputs": [],
   "source": [
    "# Variable indicating how early the customer booked the flight\n",
    "df['BookTravelDays'] = (df['ServiceStartDate'] - df['PNRCreateDate']) / np.timedelta64(1, 'D')"
   ]
  },
  {
   "cell_type": "code",
   "execution_count": null,
   "id": "81480a50",
   "metadata": {
    "id": "81480a50",
    "outputId": "79601e79-e6ef-4c8b-be5c-88f7e53ca086"
   },
   "outputs": [
    {
     "data": {
      "text/plain": [
       "<AxesSubplot:>"
      ]
     },
     "execution_count": 229,
     "metadata": {},
     "output_type": "execute_result"
    },
    {
     "data": {
      "image/png": "[encoded data removed]",
      "text/plain": [
       "<Figure size 432x288 with 1 Axes>"
      ]
     },
     "metadata": {
      "needs_background": "light"
     },
     "output_type": "display_data"
    }
   ],
   "source": [
    "# Age outliers\n",
    "df.boxplot(column='Age')"
   ]
  },
  {
   "cell_type": "code",
   "execution_count": null,
   "id": "1cdcaca2",
   "metadata": {
    "id": "1cdcaca2",
    "outputId": "d6d5bc30-73f5-453d-8c25-140b5f5d724e"
   },
   "outputs": [
    {
     "name": "stdout",
     "output_type": "stream",
     "text": [
      "Null Age Values:  45191\n"
     ]
    },
    {
     "data": {
      "text/plain": [
       "<AxesSubplot:>"
      ]
     },
     "execution_count": 230,
     "metadata": {},
     "output_type": "execute_result"
    },
    {
     "data": {
      "image/png": "[encoded data removed]",
      "text/plain": [
       "<Figure size 432x288 with 1 Axes>"
      ]
     },
     "metadata": {
      "needs_background": "light"
     },
     "output_type": "display_data"
    }
   ],
   "source": [
    "# Imputing Age with median value\n",
    "df['Age'] = df['Age'].apply(lambda x: np.nan if (x>105 or x<0) else x)\n",
    "\n",
    "print(\"Null Age Values: \", df['Age'].isna().sum())\n",
    "df['Age'] = df['Age'].fillna(df['Age'].median())\n",
    "df.boxplot(column='Age')"
   ]
  },
  {
   "cell_type": "code",
   "execution_count": null,
   "id": "d8898258",
   "metadata": {
    "id": "d8898258"
   },
   "outputs": [],
   "source": [
    "# Gender code\n",
    "df['GenderCode'] = df['GenderCode'].fillna(df['GenderCode'].mode())\n",
    "df['GenderCode'] = np.where(df['GenderCode'].str.contains('F'), 1, 0)"
   ]
  },
  {
   "cell_type": "code",
   "execution_count": null,
   "id": "ea1e7810",
   "metadata": {
    "id": "ea1e7810",
    "scrolled": true
   },
   "outputs": [],
   "source": [
    "# Upgrade flag to indicate if a customer upgraded from Coach to First class\n",
    "df['Upgrade'] = df.apply(lambda x: 0 if x['BkdClassOfService'] == 'Coach' \n",
    "                         and x['TrvldClassOfService'] == 'Coach' else 1, axis=1)"
   ]
  },
  {
   "cell_type": "code",
   "execution_count": null,
   "id": "251688b9",
   "metadata": {
    "id": "251688b9"
   },
   "outputs": [],
   "source": [
    "# suppFare records the ancillary charges paid by customer \n",
    "# Assuming that these charges reflect the unplanned and inflight services\n",
    "\n",
    "df['suppFare'] = df['TotalDocAmt'] - df['BaseFareAmt']\n",
    "df['suppFare'] = df['suppFare'].apply(lambda x : x if x > 0 else 0)"
   ]
  },
  {
   "cell_type": "code",
   "execution_count": null,
   "id": "3a95b0d8",
   "metadata": {
    "id": "3a95b0d8",
    "outputId": "28dba3fd-8b94-411e-c1f4-dccc877f17d2"
   },
   "outputs": [
    {
     "data": {
      "text/html": [
       "<div>\n",
       "<style scoped>\n",
       "    .dataframe tbody tr th:only-of-type {\n",
       "        vertical-align: middle;\n",
       "    }\n",
       "\n",
       "    .dataframe tbody tr th {\n",
       "        vertical-align: top;\n",
       "    }\n",
       "\n",
       "    .dataframe thead th {\n",
       "        text-align: right;\n",
       "    }\n",
       "</style>\n",
       "<table border=\"1\" class=\"dataframe\">\n",
       "  <thead>\n",
       "    <tr style=\"text-align: right;\">\n",
       "      <th></th>\n",
       "      <th>PNRLocatorID</th>\n",
       "      <th>TicketNum</th>\n",
       "      <th>CouponSeqNbr</th>\n",
       "      <th>ServiceStartCity</th>\n",
       "      <th>ServiceEndCity</th>\n",
       "      <th>PNRCreateDate</th>\n",
       "      <th>ServiceStartDate</th>\n",
       "      <th>PaxName</th>\n",
       "      <th>EncryptedName</th>\n",
       "      <th>GenderCode</th>\n",
       "      <th>...</th>\n",
       "      <th>Upgrade</th>\n",
       "      <th>suppFare</th>\n",
       "      <th>Bkd_Coach</th>\n",
       "      <th>Bkd_Discount First Class</th>\n",
       "      <th>Bkd_First Class</th>\n",
       "      <th>Trvld_Coach</th>\n",
       "      <th>Trvld_Discount First Class</th>\n",
       "      <th>Trvld_First Class</th>\n",
       "      <th>Ufly_Elite</th>\n",
       "      <th>Ufly_Standard</th>\n",
       "    </tr>\n",
       "  </thead>\n",
       "  <tbody>\n",
       "    <tr>\n",
       "      <th>0</th>\n",
       "      <td>AAABJK</td>\n",
       "      <td>3377365159634</td>\n",
       "      <td>2</td>\n",
       "      <td>JFK</td>\n",
       "      <td>MSP</td>\n",
       "      <td>2013-11-23</td>\n",
       "      <td>2013-12-13</td>\n",
       "      <td>BRUMSA</td>\n",
       "      <td>4252554D4241434B44696420493F7C2067657420746869...</td>\n",
       "      <td>F</td>\n",
       "      <td>...</td>\n",
       "      <td>0</td>\n",
       "      <td>0.00</td>\n",
       "      <td>1</td>\n",
       "      <td>0</td>\n",
       "      <td>0</td>\n",
       "      <td>1</td>\n",
       "      <td>0</td>\n",
       "      <td>0</td>\n",
       "      <td>0</td>\n",
       "      <td>0</td>\n",
       "    </tr>\n",
       "    <tr>\n",
       "      <th>1</th>\n",
       "      <td>AAABJK</td>\n",
       "      <td>3377365159634</td>\n",
       "      <td>1</td>\n",
       "      <td>MSP</td>\n",
       "      <td>JFK</td>\n",
       "      <td>2013-11-23</td>\n",
       "      <td>2013-12-08</td>\n",
       "      <td>BRUMSA</td>\n",
       "      <td>4252554D4241434B44696420493F7C2067657420746869...</td>\n",
       "      <td>F</td>\n",
       "      <td>...</td>\n",
       "      <td>1</td>\n",
       "      <td>0.00</td>\n",
       "      <td>1</td>\n",
       "      <td>0</td>\n",
       "      <td>0</td>\n",
       "      <td>0</td>\n",
       "      <td>0</td>\n",
       "      <td>1</td>\n",
       "      <td>0</td>\n",
       "      <td>0</td>\n",
       "    </tr>\n",
       "    <tr>\n",
       "      <th>2</th>\n",
       "      <td>AAABMK</td>\n",
       "      <td>3372107381942</td>\n",
       "      <td>2</td>\n",
       "      <td>MSP</td>\n",
       "      <td>SFO</td>\n",
       "      <td>2014-02-04</td>\n",
       "      <td>2014-02-23</td>\n",
       "      <td>EILDRY</td>\n",
       "      <td>45494C4445525344696420493F7C206765742074686973...</td>\n",
       "      <td>M</td>\n",
       "      <td>...</td>\n",
       "      <td>1</td>\n",
       "      <td>44.04</td>\n",
       "      <td>1</td>\n",
       "      <td>0</td>\n",
       "      <td>0</td>\n",
       "      <td>0</td>\n",
       "      <td>1</td>\n",
       "      <td>0</td>\n",
       "      <td>0</td>\n",
       "      <td>0</td>\n",
       "    </tr>\n",
       "    <tr>\n",
       "      <th>3</th>\n",
       "      <td>AAABMK</td>\n",
       "      <td>3372107381942</td>\n",
       "      <td>1</td>\n",
       "      <td>SFO</td>\n",
       "      <td>MSP</td>\n",
       "      <td>2014-02-04</td>\n",
       "      <td>2014-02-20</td>\n",
       "      <td>EILDRY</td>\n",
       "      <td>45494C4445525344696420493F7C206765742074686973...</td>\n",
       "      <td>M</td>\n",
       "      <td>...</td>\n",
       "      <td>1</td>\n",
       "      <td>44.04</td>\n",
       "      <td>1</td>\n",
       "      <td>0</td>\n",
       "      <td>0</td>\n",
       "      <td>0</td>\n",
       "      <td>1</td>\n",
       "      <td>0</td>\n",
       "      <td>0</td>\n",
       "      <td>0</td>\n",
       "    </tr>\n",
       "    <tr>\n",
       "      <th>4</th>\n",
       "      <td>AAABTP</td>\n",
       "      <td>3372107470782</td>\n",
       "      <td>1</td>\n",
       "      <td>MCO</td>\n",
       "      <td>MSP</td>\n",
       "      <td>2014-03-13</td>\n",
       "      <td>2014-04-23</td>\n",
       "      <td>SKELMA</td>\n",
       "      <td>534B454C544F4E44696420493F7C206765742074686973...</td>\n",
       "      <td>F</td>\n",
       "      <td>...</td>\n",
       "      <td>0</td>\n",
       "      <td>19.44</td>\n",
       "      <td>1</td>\n",
       "      <td>0</td>\n",
       "      <td>0</td>\n",
       "      <td>1</td>\n",
       "      <td>0</td>\n",
       "      <td>0</td>\n",
       "      <td>0</td>\n",
       "      <td>0</td>\n",
       "    </tr>\n",
       "  </tbody>\n",
       "</table>\n",
       "<p>5 rows × 30 columns</p>\n",
       "</div>"
      ],
      "text/plain": [
       "  PNRLocatorID      TicketNum  CouponSeqNbr ServiceStartCity ServiceEndCity  \\\n",
       "0       AAABJK  3377365159634             2              JFK            MSP   \n",
       "1       AAABJK  3377365159634             1              MSP            JFK   \n",
       "2       AAABMK  3372107381942             2              MSP            SFO   \n",
       "3       AAABMK  3372107381942             1              SFO            MSP   \n",
       "4       AAABTP  3372107470782             1              MCO            MSP   \n",
       "\n",
       "  PNRCreateDate ServiceStartDate PaxName  \\\n",
       "0    2013-11-23       2013-12-13  BRUMSA   \n",
       "1    2013-11-23       2013-12-08  BRUMSA   \n",
       "2    2014-02-04       2014-02-23  EILDRY   \n",
       "3    2014-02-04       2014-02-20  EILDRY   \n",
       "4    2014-03-13       2014-04-23  SKELMA   \n",
       "\n",
       "                                       EncryptedName GenderCode  ...  Upgrade  \\\n",
       "0  4252554D4241434B44696420493F7C2067657420746869...          F  ...        0   \n",
       "1  4252554D4241434B44696420493F7C2067657420746869...          F  ...        1   \n",
       "2  45494C4445525344696420493F7C206765742074686973...          M  ...        1   \n",
       "3  45494C4445525344696420493F7C206765742074686973...          M  ...        1   \n",
       "4  534B454C544F4E44696420493F7C206765742074686973...          F  ...        0   \n",
       "\n",
       "   suppFare Bkd_Coach  Bkd_Discount First Class  Bkd_First Class Trvld_Coach  \\\n",
       "0      0.00         1                         0                0           1   \n",
       "1      0.00         1                         0                0           0   \n",
       "2     44.04         1                         0                0           0   \n",
       "3     44.04         1                         0                0           0   \n",
       "4     19.44         1                         0                0           1   \n",
       "\n",
       "  Trvld_Discount First Class Trvld_First Class Ufly_Elite  Ufly_Standard  \n",
       "0                          0                 0          0              0  \n",
       "1                          0                 1          0              0  \n",
       "2                          1                 0          0              0  \n",
       "3                          1                 0          0              0  \n",
       "4                          0                 0          0              0  \n",
       "\n",
       "[5 rows x 30 columns]"
      ]
     },
     "execution_count": 233,
     "metadata": {},
     "output_type": "execute_result"
    }
   ],
   "source": [
    "# One hot encoding categorical variables\n",
    "df2 = pd.get_dummies(df, columns = ['BkdClassOfService','TrvldClassOfService', 'UflyMemberStatus'], \n",
    "                     prefix=['Bkd', 'Trvld', 'Ufly'])\n",
    "df2.head()"
   ]
  },
  {
   "cell_type": "code",
   "execution_count": null,
   "id": "b53da70d",
   "metadata": {
    "id": "b53da70d"
   },
   "outputs": [],
   "source": [
    "# Calculating the number of days since customer joined the UFly Membership program\n",
    "\n",
    "df2['MemberSince'] = (df2['EnrollDate'].max() - df2['EnrollDate']) / np.timedelta64(1, 'D')\n",
    "df2['MemberSince'] = df2['MemberSince'].fillna(0)"
   ]
  },
  {
   "cell_type": "code",
   "execution_count": null,
   "id": "c3eaec3f",
   "metadata": {
    "id": "c3eaec3f",
    "outputId": "e068ea3d-4e09-4faf-c905-171511e09eeb"
   },
   "outputs": [
    {
     "name": "stdout",
     "output_type": "stream",
     "text": [
      "No of duplicate rows are:  142830\n"
     ]
    }
   ],
   "source": [
    "# Removing Duplicates \n",
    "print(\"No of duplicate rows are: \", df2.duplicated().sum())\n",
    "df2.drop_duplicates(inplace = True)"
   ]
  },
  {
   "cell_type": "code",
   "execution_count": null,
   "id": "a89feb1d",
   "metadata": {
    "id": "a89feb1d",
    "outputId": "caf765d0-f9e8-4958-f299-bfe2217ce909"
   },
   "outputs": [
    {
     "name": "stdout",
     "output_type": "stream",
     "text": [
      "(3287520, 31)\n"
     ]
    }
   ],
   "source": [
    "print(df2.shape)"
   ]
  },
  {
   "cell_type": "code",
   "execution_count": null,
   "id": "d84c5363",
   "metadata": {
    "id": "d84c5363",
    "outputId": "4358cb31-68f3-4f09-c2d5-a0b5a06ed57d"
   },
   "outputs": [
    {
     "data": {
      "text/plain": [
       "0    2159105\n",
       "1    1128415\n",
       "Name: DiscountFlag, dtype: int64"
      ]
     },
     "execution_count": 237,
     "metadata": {},
     "output_type": "execute_result"
    }
   ],
   "source": [
    "# Column to identify if the customer leveraged a discount voucher code on booking \n",
    "df2['DiscountFlag'] = df2.apply(lambda x: 0 if x['BookedProduct'] is np.nan else 1, axis=1)\n",
    "df2['DiscountFlag'].value_counts()"
   ]
  },
  {
   "cell_type": "code",
   "execution_count": null,
   "id": "9f3e5659",
   "metadata": {
    "id": "9f3e5659"
   },
   "outputs": [],
   "source": [
    "# Column indicating the channel through which the ticket was booked\n",
    "df2['Booking_Channel_Flag'] = df2['BookingChannel'].apply(lambda x: 1 if 'SCA' in x else 0)"
   ]
  },
  {
   "cell_type": "code",
   "execution_count": null,
   "id": "ca19c41b",
   "metadata": {
    "id": "ca19c41b"
   },
   "outputs": [],
   "source": [
    "# Dropping all other unused columns\n",
    "\n",
    "cols_drop = ['PNRLocatorID', 'PNRCreateDate', 'ServiceStartDate','BookingChannel', 'BookedProduct',\n",
    "             'EnrollDate','MarketingAirlineCode', 'CardHolder']\n",
    "\n",
    "# df3 = df2.drop(cols_drop, axis = 1)\n",
    "df2.drop(cols_drop, axis = 1, inplace = True)"
   ]
  },
  {
   "cell_type": "code",
   "execution_count": null,
   "id": "db91b927",
   "metadata": {
    "id": "db91b927",
    "outputId": "aea07779-216c-4566-c236-c2dadb05343d"
   },
   "outputs": [
    {
     "data": {
      "text/html": [
       "<div>\n",
       "<style scoped>\n",
       "    .dataframe tbody tr th:only-of-type {\n",
       "        vertical-align: middle;\n",
       "    }\n",
       "\n",
       "    .dataframe tbody tr th {\n",
       "        vertical-align: top;\n",
       "    }\n",
       "\n",
       "    .dataframe thead th {\n",
       "        text-align: right;\n",
       "    }\n",
       "</style>\n",
       "<table border=\"1\" class=\"dataframe\">\n",
       "  <thead>\n",
       "    <tr style=\"text-align: right;\">\n",
       "      <th></th>\n",
       "      <th>TicketNum</th>\n",
       "      <th>CouponSeqNbr</th>\n",
       "      <th>ServiceStartCity</th>\n",
       "      <th>ServiceEndCity</th>\n",
       "      <th>PaxName</th>\n",
       "      <th>EncryptedName</th>\n",
       "      <th>GenderCode</th>\n",
       "      <th>birthdateid</th>\n",
       "      <th>Age</th>\n",
       "      <th>BaseFareAmt</th>\n",
       "      <th>...</th>\n",
       "      <th>Bkd_First Class</th>\n",
       "      <th>Trvld_Coach</th>\n",
       "      <th>Trvld_Discount First Class</th>\n",
       "      <th>Trvld_First Class</th>\n",
       "      <th>Ufly_Elite</th>\n",
       "      <th>Ufly_Standard</th>\n",
       "      <th>MemberSince</th>\n",
       "      <th>DiscountFlag</th>\n",
       "      <th>Booking_Channel_Flag</th>\n",
       "      <th>miles</th>\n",
       "    </tr>\n",
       "  </thead>\n",
       "  <tbody>\n",
       "    <tr>\n",
       "      <th>0</th>\n",
       "      <td>3377365159634</td>\n",
       "      <td>2</td>\n",
       "      <td>JFK</td>\n",
       "      <td>MSP</td>\n",
       "      <td>BRUMSA</td>\n",
       "      <td>4252554D4241434B44696420493F7C2067657420746869...</td>\n",
       "      <td>F</td>\n",
       "      <td>35331.0</td>\n",
       "      <td>66.0</td>\n",
       "      <td>234.20</td>\n",
       "      <td>...</td>\n",
       "      <td>0</td>\n",
       "      <td>1</td>\n",
       "      <td>0</td>\n",
       "      <td>0</td>\n",
       "      <td>0</td>\n",
       "      <td>0</td>\n",
       "      <td>0.0</td>\n",
       "      <td>1</td>\n",
       "      <td>0</td>\n",
       "      <td>1028</td>\n",
       "    </tr>\n",
       "    <tr>\n",
       "      <th>1</th>\n",
       "      <td>3377365159634</td>\n",
       "      <td>1</td>\n",
       "      <td>MSP</td>\n",
       "      <td>JFK</td>\n",
       "      <td>BRUMSA</td>\n",
       "      <td>4252554D4241434B44696420493F7C2067657420746869...</td>\n",
       "      <td>F</td>\n",
       "      <td>35331.0</td>\n",
       "      <td>66.0</td>\n",
       "      <td>234.20</td>\n",
       "      <td>...</td>\n",
       "      <td>0</td>\n",
       "      <td>0</td>\n",
       "      <td>0</td>\n",
       "      <td>1</td>\n",
       "      <td>0</td>\n",
       "      <td>0</td>\n",
       "      <td>0.0</td>\n",
       "      <td>1</td>\n",
       "      <td>0</td>\n",
       "      <td>1028</td>\n",
       "    </tr>\n",
       "    <tr>\n",
       "      <th>2</th>\n",
       "      <td>3372107381942</td>\n",
       "      <td>2</td>\n",
       "      <td>MSP</td>\n",
       "      <td>SFO</td>\n",
       "      <td>EILDRY</td>\n",
       "      <td>45494C4445525344696420493F7C206765742074686973...</td>\n",
       "      <td>M</td>\n",
       "      <td>46161.0</td>\n",
       "      <td>37.0</td>\n",
       "      <td>293.96</td>\n",
       "      <td>...</td>\n",
       "      <td>0</td>\n",
       "      <td>0</td>\n",
       "      <td>1</td>\n",
       "      <td>0</td>\n",
       "      <td>0</td>\n",
       "      <td>0</td>\n",
       "      <td>0.0</td>\n",
       "      <td>0</td>\n",
       "      <td>1</td>\n",
       "      <td>1589</td>\n",
       "    </tr>\n",
       "    <tr>\n",
       "      <th>3</th>\n",
       "      <td>3372107381942</td>\n",
       "      <td>1</td>\n",
       "      <td>SFO</td>\n",
       "      <td>MSP</td>\n",
       "      <td>EILDRY</td>\n",
       "      <td>45494C4445525344696420493F7C206765742074686973...</td>\n",
       "      <td>M</td>\n",
       "      <td>46161.0</td>\n",
       "      <td>37.0</td>\n",
       "      <td>293.96</td>\n",
       "      <td>...</td>\n",
       "      <td>0</td>\n",
       "      <td>0</td>\n",
       "      <td>1</td>\n",
       "      <td>0</td>\n",
       "      <td>0</td>\n",
       "      <td>0</td>\n",
       "      <td>0.0</td>\n",
       "      <td>0</td>\n",
       "      <td>1</td>\n",
       "      <td>1589</td>\n",
       "    </tr>\n",
       "    <tr>\n",
       "      <th>4</th>\n",
       "      <td>3372107470782</td>\n",
       "      <td>1</td>\n",
       "      <td>MCO</td>\n",
       "      <td>MSP</td>\n",
       "      <td>SKELMA</td>\n",
       "      <td>534B454C544F4E44696420493F7C206765742074686973...</td>\n",
       "      <td>F</td>\n",
       "      <td>34377.0</td>\n",
       "      <td>69.0</td>\n",
       "      <td>112.56</td>\n",
       "      <td>...</td>\n",
       "      <td>0</td>\n",
       "      <td>1</td>\n",
       "      <td>0</td>\n",
       "      <td>0</td>\n",
       "      <td>0</td>\n",
       "      <td>0</td>\n",
       "      <td>0.0</td>\n",
       "      <td>0</td>\n",
       "      <td>0</td>\n",
       "      <td>1310</td>\n",
       "    </tr>\n",
       "  </tbody>\n",
       "</table>\n",
       "<p>5 rows × 26 columns</p>\n",
       "</div>"
      ],
      "text/plain": [
       "       TicketNum  CouponSeqNbr ServiceStartCity ServiceEndCity PaxName  \\\n",
       "0  3377365159634             2              JFK            MSP  BRUMSA   \n",
       "1  3377365159634             1              MSP            JFK  BRUMSA   \n",
       "2  3372107381942             2              MSP            SFO  EILDRY   \n",
       "3  3372107381942             1              SFO            MSP  EILDRY   \n",
       "4  3372107470782             1              MCO            MSP  SKELMA   \n",
       "\n",
       "                                       EncryptedName GenderCode  birthdateid  \\\n",
       "0  4252554D4241434B44696420493F7C2067657420746869...          F      35331.0   \n",
       "1  4252554D4241434B44696420493F7C2067657420746869...          F      35331.0   \n",
       "2  45494C4445525344696420493F7C206765742074686973...          M      46161.0   \n",
       "3  45494C4445525344696420493F7C206765742074686973...          M      46161.0   \n",
       "4  534B454C544F4E44696420493F7C206765742074686973...          F      34377.0   \n",
       "\n",
       "    Age  BaseFareAmt  ...  Bkd_First Class  Trvld_Coach  \\\n",
       "0  66.0       234.20  ...                0            1   \n",
       "1  66.0       234.20  ...                0            0   \n",
       "2  37.0       293.96  ...                0            0   \n",
       "3  37.0       293.96  ...                0            0   \n",
       "4  69.0       112.56  ...                0            1   \n",
       "\n",
       "   Trvld_Discount First Class  Trvld_First Class  Ufly_Elite  Ufly_Standard  \\\n",
       "0                           0                  0           0              0   \n",
       "1                           0                  1           0              0   \n",
       "2                           1                  0           0              0   \n",
       "3                           1                  0           0              0   \n",
       "4                           0                  0           0              0   \n",
       "\n",
       "   MemberSince  DiscountFlag  Booking_Channel_Flag  miles  \n",
       "0          0.0             1                     0  1028   \n",
       "1          0.0             1                     0  1028   \n",
       "2          0.0             0                     1  1589   \n",
       "3          0.0             0                     1  1589   \n",
       "4          0.0             0                     0  1310   \n",
       "\n",
       "[5 rows x 26 columns]"
      ]
     },
     "execution_count": 240,
     "metadata": {},
     "output_type": "execute_result"
    }
   ],
   "source": [
    "# Joining miles data\n",
    "df_merged = df2.merge(df_mile, how = 'left', left_on = ['ServiceStartCity', 'ServiceEndCity'], right_on = ['origin', 'dest'] )\n",
    "df_merged.drop(['origin','dest'], axis =1, inplace = True)\n",
    "df_merged.head()"
   ]
  },
  {
   "cell_type": "code",
   "execution_count": null,
   "id": "0768e78d",
   "metadata": {
    "id": "0768e78d",
    "outputId": "ff53bf32-a8b2-4557-b570-7760f9243b86"
   },
   "outputs": [
    {
     "data": {
      "text/html": [
       "<div>\n",
       "<style scoped>\n",
       "    .dataframe tbody tr th:only-of-type {\n",
       "        vertical-align: middle;\n",
       "    }\n",
       "\n",
       "    .dataframe tbody tr th {\n",
       "        vertical-align: top;\n",
       "    }\n",
       "\n",
       "    .dataframe thead th {\n",
       "        text-align: right;\n",
       "    }\n",
       "</style>\n",
       "<table border=\"1\" class=\"dataframe\">\n",
       "  <thead>\n",
       "    <tr style=\"text-align: right;\">\n",
       "      <th></th>\n",
       "      <th>TicketNum</th>\n",
       "      <th>CouponSeqNbr</th>\n",
       "      <th>ServiceStartCity</th>\n",
       "      <th>ServiceEndCity</th>\n",
       "      <th>PaxName</th>\n",
       "      <th>EncryptedName</th>\n",
       "      <th>GenderCode</th>\n",
       "      <th>birthdateid</th>\n",
       "      <th>Age</th>\n",
       "      <th>BaseFareAmt</th>\n",
       "      <th>...</th>\n",
       "      <th>Trvld_Discount First Class</th>\n",
       "      <th>Trvld_First Class</th>\n",
       "      <th>Ufly_Elite</th>\n",
       "      <th>Ufly_Standard</th>\n",
       "      <th>MemberSince</th>\n",
       "      <th>DiscountFlag</th>\n",
       "      <th>Booking_Channel_Flag</th>\n",
       "      <th>miles</th>\n",
       "      <th>route</th>\n",
       "      <th>route_code</th>\n",
       "    </tr>\n",
       "  </thead>\n",
       "  <tbody>\n",
       "    <tr>\n",
       "      <th>0</th>\n",
       "      <td>3377365159634</td>\n",
       "      <td>2</td>\n",
       "      <td>JFK</td>\n",
       "      <td>MSP</td>\n",
       "      <td>BRUMSA</td>\n",
       "      <td>4252554D4241434B44696420493F7C2067657420746869...</td>\n",
       "      <td>F</td>\n",
       "      <td>35331.0</td>\n",
       "      <td>66.0</td>\n",
       "      <td>234.20</td>\n",
       "      <td>...</td>\n",
       "      <td>0</td>\n",
       "      <td>0</td>\n",
       "      <td>0</td>\n",
       "      <td>0</td>\n",
       "      <td>0.0</td>\n",
       "      <td>1</td>\n",
       "      <td>0</td>\n",
       "      <td>1028</td>\n",
       "      <td>JFK-MSP</td>\n",
       "      <td>51</td>\n",
       "    </tr>\n",
       "    <tr>\n",
       "      <th>1</th>\n",
       "      <td>3377365159634</td>\n",
       "      <td>1</td>\n",
       "      <td>MSP</td>\n",
       "      <td>JFK</td>\n",
       "      <td>BRUMSA</td>\n",
       "      <td>4252554D4241434B44696420493F7C2067657420746869...</td>\n",
       "      <td>F</td>\n",
       "      <td>35331.0</td>\n",
       "      <td>66.0</td>\n",
       "      <td>234.20</td>\n",
       "      <td>...</td>\n",
       "      <td>0</td>\n",
       "      <td>1</td>\n",
       "      <td>0</td>\n",
       "      <td>0</td>\n",
       "      <td>0.0</td>\n",
       "      <td>1</td>\n",
       "      <td>0</td>\n",
       "      <td>1028</td>\n",
       "      <td>MSP-JFK</td>\n",
       "      <td>84</td>\n",
       "    </tr>\n",
       "    <tr>\n",
       "      <th>2</th>\n",
       "      <td>3372107381942</td>\n",
       "      <td>2</td>\n",
       "      <td>MSP</td>\n",
       "      <td>SFO</td>\n",
       "      <td>EILDRY</td>\n",
       "      <td>45494C4445525344696420493F7C206765742074686973...</td>\n",
       "      <td>M</td>\n",
       "      <td>46161.0</td>\n",
       "      <td>37.0</td>\n",
       "      <td>293.96</td>\n",
       "      <td>...</td>\n",
       "      <td>1</td>\n",
       "      <td>0</td>\n",
       "      <td>0</td>\n",
       "      <td>0</td>\n",
       "      <td>0.0</td>\n",
       "      <td>0</td>\n",
       "      <td>1</td>\n",
       "      <td>1589</td>\n",
       "      <td>MSP-SFO</td>\n",
       "      <td>103</td>\n",
       "    </tr>\n",
       "    <tr>\n",
       "      <th>3</th>\n",
       "      <td>3372107381942</td>\n",
       "      <td>1</td>\n",
       "      <td>SFO</td>\n",
       "      <td>MSP</td>\n",
       "      <td>EILDRY</td>\n",
       "      <td>45494C4445525344696420493F7C206765742074686973...</td>\n",
       "      <td>M</td>\n",
       "      <td>46161.0</td>\n",
       "      <td>37.0</td>\n",
       "      <td>293.96</td>\n",
       "      <td>...</td>\n",
       "      <td>1</td>\n",
       "      <td>0</td>\n",
       "      <td>0</td>\n",
       "      <td>0</td>\n",
       "      <td>0.0</td>\n",
       "      <td>0</td>\n",
       "      <td>1</td>\n",
       "      <td>1589</td>\n",
       "      <td>SFO-MSP</td>\n",
       "      <td>129</td>\n",
       "    </tr>\n",
       "    <tr>\n",
       "      <th>4</th>\n",
       "      <td>3372107470782</td>\n",
       "      <td>1</td>\n",
       "      <td>MCO</td>\n",
       "      <td>MSP</td>\n",
       "      <td>SKELMA</td>\n",
       "      <td>534B454C544F4E44696420493F7C206765742074686973...</td>\n",
       "      <td>F</td>\n",
       "      <td>34377.0</td>\n",
       "      <td>69.0</td>\n",
       "      <td>112.56</td>\n",
       "      <td>...</td>\n",
       "      <td>0</td>\n",
       "      <td>0</td>\n",
       "      <td>0</td>\n",
       "      <td>0</td>\n",
       "      <td>0.0</td>\n",
       "      <td>0</td>\n",
       "      <td>0</td>\n",
       "      <td>1310</td>\n",
       "      <td>MCO-MSP</td>\n",
       "      <td>69</td>\n",
       "    </tr>\n",
       "  </tbody>\n",
       "</table>\n",
       "<p>5 rows × 28 columns</p>\n",
       "</div>"
      ],
      "text/plain": [
       "       TicketNum  CouponSeqNbr ServiceStartCity ServiceEndCity PaxName  \\\n",
       "0  3377365159634             2              JFK            MSP  BRUMSA   \n",
       "1  3377365159634             1              MSP            JFK  BRUMSA   \n",
       "2  3372107381942             2              MSP            SFO  EILDRY   \n",
       "3  3372107381942             1              SFO            MSP  EILDRY   \n",
       "4  3372107470782             1              MCO            MSP  SKELMA   \n",
       "\n",
       "                                       EncryptedName GenderCode  birthdateid  \\\n",
       "0  4252554D4241434B44696420493F7C2067657420746869...          F      35331.0   \n",
       "1  4252554D4241434B44696420493F7C2067657420746869...          F      35331.0   \n",
       "2  45494C4445525344696420493F7C206765742074686973...          M      46161.0   \n",
       "3  45494C4445525344696420493F7C206765742074686973...          M      46161.0   \n",
       "4  534B454C544F4E44696420493F7C206765742074686973...          F      34377.0   \n",
       "\n",
       "    Age  BaseFareAmt  ...  Trvld_Discount First Class  Trvld_First Class  \\\n",
       "0  66.0       234.20  ...                           0                  0   \n",
       "1  66.0       234.20  ...                           0                  1   \n",
       "2  37.0       293.96  ...                           1                  0   \n",
       "3  37.0       293.96  ...                           1                  0   \n",
       "4  69.0       112.56  ...                           0                  0   \n",
       "\n",
       "   Ufly_Elite  Ufly_Standard  MemberSince  DiscountFlag  Booking_Channel_Flag  \\\n",
       "0           0              0          0.0             1                     0   \n",
       "1           0              0          0.0             1                     0   \n",
       "2           0              0          0.0             0                     1   \n",
       "3           0              0          0.0             0                     1   \n",
       "4           0              0          0.0             0                     0   \n",
       "\n",
       "   miles    route  route_code  \n",
       "0  1028   JFK-MSP          51  \n",
       "1  1028   MSP-JFK          84  \n",
       "2  1589   MSP-SFO         103  \n",
       "3  1589   SFO-MSP         129  \n",
       "4  1310   MCO-MSP          69  \n",
       "\n",
       "[5 rows x 28 columns]"
      ]
     },
     "execution_count": 241,
     "metadata": {},
     "output_type": "execute_result"
    }
   ],
   "source": [
    "# route_code : Encoding each route with a distinct number\n",
    "\n",
    "df_merged['route'] = df_merged['ServiceStartCity'].astype(str) + '-' + df_merged['ServiceEndCity'].astype(str)\n",
    "df_merged['route'] = pd.Categorical(df_merged['route'])\n",
    "df_merged['route_code'] = df_merged['route'].cat.codes\n",
    "df_merged.head()"
   ]
  },
  {
   "cell_type": "code",
   "execution_count": null,
   "id": "03e93bc5",
   "metadata": {
    "id": "03e93bc5",
    "outputId": "95361696-defd-4486-ca97-f23cb78b182f"
   },
   "outputs": [
    {
     "data": {
      "text/html": [
       "<div>\n",
       "<style scoped>\n",
       "    .dataframe tbody tr th:only-of-type {\n",
       "        vertical-align: middle;\n",
       "    }\n",
       "\n",
       "    .dataframe tbody tr th {\n",
       "        vertical-align: top;\n",
       "    }\n",
       "\n",
       "    .dataframe thead th {\n",
       "        text-align: right;\n",
       "    }\n",
       "</style>\n",
       "<table border=\"1\" class=\"dataframe\">\n",
       "  <thead>\n",
       "    <tr style=\"text-align: right;\">\n",
       "      <th></th>\n",
       "      <th>ServiceEndCity</th>\n",
       "      <th>TicketNum</th>\n",
       "      <th>PaxName</th>\n",
       "      <th>birthdateid</th>\n",
       "      <th>ServiceStartCity</th>\n",
       "      <th>RoundTrip</th>\n",
       "    </tr>\n",
       "  </thead>\n",
       "  <tbody>\n",
       "    <tr>\n",
       "      <th>0</th>\n",
       "      <td>CUN</td>\n",
       "      <td>3379578145804</td>\n",
       "      <td>GOMEXI</td>\n",
       "      <td>55065.0</td>\n",
       "      <td>DFW</td>\n",
       "      <td>1</td>\n",
       "    </tr>\n",
       "    <tr>\n",
       "      <th>1</th>\n",
       "      <td>CUN</td>\n",
       "      <td>3379578145803</td>\n",
       "      <td>GOMEJU</td>\n",
       "      <td>42676.0</td>\n",
       "      <td>DFW</td>\n",
       "      <td>1</td>\n",
       "    </tr>\n",
       "    <tr>\n",
       "      <th>2</th>\n",
       "      <td>CUN</td>\n",
       "      <td>3379578145802</td>\n",
       "      <td>ESQUMA</td>\n",
       "      <td>42064.0</td>\n",
       "      <td>DFW</td>\n",
       "      <td>1</td>\n",
       "    </tr>\n",
       "    <tr>\n",
       "      <th>3</th>\n",
       "      <td>MSP</td>\n",
       "      <td>3379574157873</td>\n",
       "      <td>PYWECO</td>\n",
       "      <td>48921.0</td>\n",
       "      <td>MSP</td>\n",
       "      <td>0</td>\n",
       "    </tr>\n",
       "    <tr>\n",
       "      <th>4</th>\n",
       "      <td>MSP</td>\n",
       "      <td>3379574157872</td>\n",
       "      <td>PYWERO</td>\n",
       "      <td>49531.0</td>\n",
       "      <td>MSP</td>\n",
       "      <td>0</td>\n",
       "    </tr>\n",
       "  </tbody>\n",
       "</table>\n",
       "</div>"
      ],
      "text/plain": [
       "  ServiceEndCity      TicketNum PaxName  birthdateid ServiceStartCity  \\\n",
       "0            CUN  3379578145804  GOMEXI      55065.0              DFW   \n",
       "1            CUN  3379578145803  GOMEJU      42676.0              DFW   \n",
       "2            CUN  3379578145802  ESQUMA      42064.0              DFW   \n",
       "3            MSP  3379574157873  PYWECO      48921.0              MSP   \n",
       "4            MSP  3379574157872  PYWERO      49531.0              MSP   \n",
       "\n",
       "   RoundTrip  \n",
       "0          1  \n",
       "1          1  \n",
       "2          1  \n",
       "3          0  \n",
       "4          0  "
      ]
     },
     "execution_count": 242,
     "metadata": {},
     "output_type": "execute_result"
    }
   ],
   "source": [
    "# Round trip : Considering the True origin and destination of a ticket, created a column to capture if it is a Round trip ticket\n",
    "\n",
    "df_end= df_merged.sort_values(['TicketNum', 'CouponSeqNbr'], ascending = False).groupby('TicketNum').head(1)[['ServiceEndCity', 'TicketNum', 'PaxName', 'birthdateid']]\n",
    "df_start = df_merged.sort_values(['TicketNum', 'CouponSeqNbr'], ascending = True).groupby('TicketNum').head(1)[['ServiceStartCity', 'TicketNum']]\n",
    "\n",
    "df_se = df_end.merge(df_start, how = 'inner', on= 'TicketNum')\n",
    "df_se['RoundTrip'] = df_se.apply(lambda x : 0 if x['ServiceEndCity'] == x['ServiceStartCity'] else 1, axis= 1)\n",
    "df_se.head()"
   ]
  },
  {
   "cell_type": "code",
   "execution_count": null,
   "id": "55a64a5a",
   "metadata": {
    "id": "55a64a5a",
    "outputId": "d92bf78a-5f9b-44d1-fea2-8998a1fcb2e5"
   },
   "outputs": [
    {
     "data": {
      "text/html": [
       "<div>\n",
       "<style scoped>\n",
       "    .dataframe tbody tr th:only-of-type {\n",
       "        vertical-align: middle;\n",
       "    }\n",
       "\n",
       "    .dataframe tbody tr th {\n",
       "        vertical-align: top;\n",
       "    }\n",
       "\n",
       "    .dataframe thead th {\n",
       "        text-align: right;\n",
       "    }\n",
       "</style>\n",
       "<table border=\"1\" class=\"dataframe\">\n",
       "  <thead>\n",
       "    <tr style=\"text-align: right;\">\n",
       "      <th></th>\n",
       "      <th>PaxName</th>\n",
       "      <th>birthdateid</th>\n",
       "      <th>RoundTripCount</th>\n",
       "    </tr>\n",
       "  </thead>\n",
       "  <tbody>\n",
       "    <tr>\n",
       "      <th>0</th>\n",
       "      <td>A ALZI</td>\n",
       "      <td>47687.0</td>\n",
       "      <td>1</td>\n",
       "    </tr>\n",
       "    <tr>\n",
       "      <th>1</th>\n",
       "      <td>AABEAL</td>\n",
       "      <td>40549.0</td>\n",
       "      <td>0</td>\n",
       "    </tr>\n",
       "    <tr>\n",
       "      <th>2</th>\n",
       "      <td>AABEAN</td>\n",
       "      <td>48964.0</td>\n",
       "      <td>0</td>\n",
       "    </tr>\n",
       "    <tr>\n",
       "      <th>3</th>\n",
       "      <td>AABECA</td>\n",
       "      <td>40987.0</td>\n",
       "      <td>1</td>\n",
       "    </tr>\n",
       "    <tr>\n",
       "      <th>4</th>\n",
       "      <td>AABECO</td>\n",
       "      <td>44420.0</td>\n",
       "      <td>0</td>\n",
       "    </tr>\n",
       "  </tbody>\n",
       "</table>\n",
       "</div>"
      ],
      "text/plain": [
       "  PaxName  birthdateid  RoundTripCount\n",
       "0  A ALZI      47687.0               1\n",
       "1  AABEAL      40549.0               0\n",
       "2  AABEAN      48964.0               0\n",
       "3  AABECA      40987.0               1\n",
       "4  AABECO      44420.0               0"
      ]
     },
     "execution_count": 243,
     "metadata": {},
     "output_type": "execute_result"
    }
   ],
   "source": [
    "# Aggregating the Round Trip count for each passenger (Passenger unique identifier = PaxName + birthdateid)\n",
    "\n",
    "df_se.drop(['ServiceEndCity', 'ServiceStartCity', 'TicketNum'], inplace = True, axis = 1)\n",
    "df_se_final = df_se.groupby(['PaxName', 'birthdateid']).agg({'RoundTrip': 'sum'}).rename(columns = \n",
    "                                                                               {'RoundTrip':'RoundTripCount'}).reset_index()\n",
    "df_se_final.head()"
   ]
  },
  {
   "cell_type": "code",
   "execution_count": null,
   "id": "ffba43c1",
   "metadata": {
    "id": "ffba43c1"
   },
   "outputs": [],
   "source": [
    "df_merged=pd.merge(df_merged,df_se_final, on=['PaxName', 'birthdateid'], how='left')"
   ]
  },
  {
   "cell_type": "code",
   "execution_count": null,
   "id": "5f70e500",
   "metadata": {
    "id": "5f70e500"
   },
   "outputs": [],
   "source": [
    "# Combining discount first class with first class (cosidering both as a single class for this analysis)\n",
    "df_merged['Trvl_First_Class'] = df_merged['Trvld_First Class'] + df_merged['Trvld_Discount First Class']"
   ]
  },
  {
   "cell_type": "code",
   "execution_count": null,
   "id": "4e281fb3",
   "metadata": {
    "id": "4e281fb3"
   },
   "outputs": [],
   "source": [
    "# Dropping the columns that are irrelavent for customer based clustering\n",
    "\n",
    "df_merged.drop(columns = ['CouponSeqNbr','ServiceStartCity', 'ServiceEndCity', \"TotalDocAmt\", 'EncryptedName',\n",
    "                         'Bkd_Coach','Bkd_Discount First Class', 'Bkd_First Class', 'Trvld_Discount First Class', \n",
    "                         'DiscountFlag', 'GenderCode' ], inplace = True)"
   ]
  },
  {
   "cell_type": "markdown",
   "id": "0bb8a8e9",
   "metadata": {
    "id": "0bb8a8e9"
   },
   "source": [
    "## For customer profiles, the combination of PaxName and birthdateid is considered as a unique customer identifier"
   ]
  },
  {
   "cell_type": "code",
   "execution_count": null,
   "id": "31c68af0",
   "metadata": {
    "id": "31c68af0",
    "outputId": "a953822f-992e-42d4-958f-6f881260d672"
   },
   "outputs": [
    {
     "data": {
      "text/plain": [
       "29495"
      ]
     },
     "execution_count": 247,
     "metadata": {},
     "output_type": "execute_result"
    }
   ],
   "source": [
    "df_merged['birthdateid'].isna().sum()\n"
   ]
  },
  {
   "cell_type": "code",
   "execution_count": null,
   "id": "f34f0422",
   "metadata": {
    "id": "f34f0422",
    "outputId": "23c342a3-af00-45c2-9773-4898c937bf2c"
   },
   "outputs": [
    {
     "name": "stdout",
     "output_type": "stream",
     "text": [
      "<class 'pandas.core.frame.DataFrame'>\n",
      "Int64Index: 3258025 entries, 0 to 3287519\n",
      "Data columns (total 19 columns):\n",
      " #   Column                Dtype   \n",
      "---  ------                -----   \n",
      " 0   TicketNum             int64   \n",
      " 1   PaxName               object  \n",
      " 2   birthdateid           object  \n",
      " 3   Age                   float64 \n",
      " 4   BaseFareAmt           float64 \n",
      " 5   BookTravelDays        float64 \n",
      " 6   Upgrade               int64   \n",
      " 7   suppFare              float64 \n",
      " 8   Trvld_Coach           uint8   \n",
      " 9   Trvld_First Class     uint8   \n",
      " 10  Ufly_Elite            uint8   \n",
      " 11  Ufly_Standard         uint8   \n",
      " 12  MemberSince           float64 \n",
      " 13  Booking_Channel_Flag  int64   \n",
      " 14  miles                 float64 \n",
      " 15  route                 category\n",
      " 16  route_code            int16   \n",
      " 17  RoundTripCount        float64 \n",
      " 18  Trvl_First_Class      uint8   \n",
      "dtypes: category(1), float64(7), int16(1), int64(3), object(2), uint8(5)\n",
      "memory usage: 351.1+ MB\n"
     ]
    }
   ],
   "source": [
    "# Type casting columns 'miles' & 'birthdateid' (Also, Filtering the records with Null birthdateid)\n",
    "df_merged['miles'] = df_merged['miles'].astype('float')\n",
    "\n",
    "df_merged = df_merged[df_merged['birthdateid'].notna()]\n",
    "df_merged['birthdateid'] = df_merged['birthdateid'].astype('str')\n",
    "df_merged.info()"
   ]
  },
  {
   "cell_type": "code",
   "execution_count": null,
   "id": "3185e49a",
   "metadata": {
    "id": "3185e49a"
   },
   "outputs": [],
   "source": [
    "df_grouped = df_merged.groupby(['PaxName', 'birthdateid']).agg({\"TicketNum\": \"count\", \"BaseFareAmt\": \"mean\", \n",
    "                                                   \"suppFare\":\"mean\" , \"BookTravelDays\":\"mean\",\n",
    "                                                   \"Trvl_First_Class\": \"sum\", \"Trvld_Coach\":\"sum\",\n",
    "                                  'Age':\"max\", 'Ufly_Elite':\"max\", 'Ufly_Standard':\"max\", \n",
    "                                                   'MemberSince':\"max\", \"miles\":\"sum\", 'route_code':'nunique',\n",
    "                                                                'RoundTripCount' : 'mean'}).reset_index()\n"
   ]
  },
  {
   "cell_type": "code",
   "execution_count": null,
   "id": "a7210b72",
   "metadata": {
    "id": "a7210b72",
    "outputId": "6a915510-a03d-45c2-bf32-8e4a8dc379f7"
   },
   "outputs": [
    {
     "data": {
      "text/html": [
       "<div>\n",
       "<style scoped>\n",
       "    .dataframe tbody tr th:only-of-type {\n",
       "        vertical-align: middle;\n",
       "    }\n",
       "\n",
       "    .dataframe tbody tr th {\n",
       "        vertical-align: top;\n",
       "    }\n",
       "\n",
       "    .dataframe thead th {\n",
       "        text-align: right;\n",
       "    }\n",
       "</style>\n",
       "<table border=\"1\" class=\"dataframe\">\n",
       "  <thead>\n",
       "    <tr style=\"text-align: right;\">\n",
       "      <th></th>\n",
       "      <th>PaxName</th>\n",
       "      <th>birthdateid</th>\n",
       "      <th>TripCount</th>\n",
       "      <th>AvgBaseFare</th>\n",
       "      <th>AvgSuppFare</th>\n",
       "      <th>BookTravelDays</th>\n",
       "      <th>FCTripCount</th>\n",
       "      <th>CoachTripCount</th>\n",
       "      <th>Age</th>\n",
       "      <th>Ufly_Elite</th>\n",
       "      <th>Ufly_Standard</th>\n",
       "      <th>MemberSince</th>\n",
       "      <th>miles</th>\n",
       "      <th>UniqueRouteCount</th>\n",
       "      <th>RoundTripCount</th>\n",
       "    </tr>\n",
       "  </thead>\n",
       "  <tbody>\n",
       "    <tr>\n",
       "      <th>0</th>\n",
       "      <td>A ALZI</td>\n",
       "      <td>47687.0</td>\n",
       "      <td>1</td>\n",
       "      <td>151.63</td>\n",
       "      <td>22.37</td>\n",
       "      <td>7.0</td>\n",
       "      <td>0</td>\n",
       "      <td>1</td>\n",
       "      <td>33.0</td>\n",
       "      <td>0</td>\n",
       "      <td>0</td>\n",
       "      <td>0.000000</td>\n",
       "      <td>1532.0</td>\n",
       "      <td>1</td>\n",
       "      <td>1.0</td>\n",
       "    </tr>\n",
       "    <tr>\n",
       "      <th>1</th>\n",
       "      <td>AABEAL</td>\n",
       "      <td>40549.0</td>\n",
       "      <td>2</td>\n",
       "      <td>0.00</td>\n",
       "      <td>0.00</td>\n",
       "      <td>12.5</td>\n",
       "      <td>0</td>\n",
       "      <td>2</td>\n",
       "      <td>52.0</td>\n",
       "      <td>0</td>\n",
       "      <td>0</td>\n",
       "      <td>0.000000</td>\n",
       "      <td>3434.0</td>\n",
       "      <td>2</td>\n",
       "      <td>0.0</td>\n",
       "    </tr>\n",
       "    <tr>\n",
       "      <th>2</th>\n",
       "      <td>AABEAN</td>\n",
       "      <td>48964.0</td>\n",
       "      <td>2</td>\n",
       "      <td>432.56</td>\n",
       "      <td>54.24</td>\n",
       "      <td>10.0</td>\n",
       "      <td>2</td>\n",
       "      <td>0</td>\n",
       "      <td>29.0</td>\n",
       "      <td>0</td>\n",
       "      <td>1</td>\n",
       "      <td>585.385995</td>\n",
       "      <td>3070.0</td>\n",
       "      <td>2</td>\n",
       "      <td>0.0</td>\n",
       "    </tr>\n",
       "    <tr>\n",
       "      <th>3</th>\n",
       "      <td>AABECA</td>\n",
       "      <td>40987.0</td>\n",
       "      <td>1</td>\n",
       "      <td>264.19</td>\n",
       "      <td>30.71</td>\n",
       "      <td>0.0</td>\n",
       "      <td>0</td>\n",
       "      <td>1</td>\n",
       "      <td>50.0</td>\n",
       "      <td>0</td>\n",
       "      <td>0</td>\n",
       "      <td>0.000000</td>\n",
       "      <td>1299.0</td>\n",
       "      <td>1</td>\n",
       "      <td>1.0</td>\n",
       "    </tr>\n",
       "    <tr>\n",
       "      <th>4</th>\n",
       "      <td>AABECO</td>\n",
       "      <td>44420.0</td>\n",
       "      <td>4</td>\n",
       "      <td>44.65</td>\n",
       "      <td>14.25</td>\n",
       "      <td>24.5</td>\n",
       "      <td>0</td>\n",
       "      <td>4</td>\n",
       "      <td>42.0</td>\n",
       "      <td>0</td>\n",
       "      <td>0</td>\n",
       "      <td>0.000000</td>\n",
       "      <td>4064.0</td>\n",
       "      <td>4</td>\n",
       "      <td>0.0</td>\n",
       "    </tr>\n",
       "  </tbody>\n",
       "</table>\n",
       "</div>"
      ],
      "text/plain": [
       "  PaxName birthdateid  TripCount  AvgBaseFare  AvgSuppFare  BookTravelDays  \\\n",
       "0  A ALZI     47687.0          1       151.63        22.37             7.0   \n",
       "1  AABEAL     40549.0          2         0.00         0.00            12.5   \n",
       "2  AABEAN     48964.0          2       432.56        54.24            10.0   \n",
       "3  AABECA     40987.0          1       264.19        30.71             0.0   \n",
       "4  AABECO     44420.0          4        44.65        14.25            24.5   \n",
       "\n",
       "   FCTripCount  CoachTripCount   Age  Ufly_Elite  Ufly_Standard  MemberSince  \\\n",
       "0            0               1  33.0           0              0     0.000000   \n",
       "1            0               2  52.0           0              0     0.000000   \n",
       "2            2               0  29.0           0              1   585.385995   \n",
       "3            0               1  50.0           0              0     0.000000   \n",
       "4            0               4  42.0           0              0     0.000000   \n",
       "\n",
       "    miles  UniqueRouteCount  RoundTripCount  \n",
       "0  1532.0                 1             1.0  \n",
       "1  3434.0                 2             0.0  \n",
       "2  3070.0                 2             0.0  \n",
       "3  1299.0                 1             1.0  \n",
       "4  4064.0                 4             0.0  "
      ]
     },
     "execution_count": 260,
     "metadata": {},
     "output_type": "execute_result"
    }
   ],
   "source": [
    "df_grouped[\"RoundTripCount\"].fillna(0, inplace = True)\n",
    "df_grouped.head()"
   ]
  },
  {
   "cell_type": "code",
   "execution_count": null,
   "id": "934e51a0",
   "metadata": {
    "id": "934e51a0",
    "outputId": "de57ec0a-ea46-4786-e53d-70c998fc0d0b"
   },
   "outputs": [
    {
     "name": "stdout",
     "output_type": "stream",
     "text": [
      "<class 'pandas.core.frame.DataFrame'>\n",
      "RangeIndex: 1343221 entries, 0 to 1343220\n",
      "Data columns (total 15 columns):\n",
      " #   Column            Non-Null Count    Dtype  \n",
      "---  ------            --------------    -----  \n",
      " 0   PaxName           1343221 non-null  object \n",
      " 1   birthdateid       1343221 non-null  object \n",
      " 2   TripCount         1343221 non-null  int64  \n",
      " 3   AvgBaseFare       1343221 non-null  float64\n",
      " 4   AvgSuppFare       1343221 non-null  float64\n",
      " 5   BookTravelDays    1343221 non-null  float64\n",
      " 6   FCTripCount       1343221 non-null  uint8  \n",
      " 7   CoachTripCount    1343221 non-null  uint8  \n",
      " 8   Age               1343221 non-null  float64\n",
      " 9   Ufly_Elite        1343221 non-null  uint8  \n",
      " 10  Ufly_Standard     1343221 non-null  uint8  \n",
      " 11  MemberSince       1343221 non-null  float64\n",
      " 12  miles             1343221 non-null  float64\n",
      " 13  UniqueRouteCount  1343221 non-null  int64  \n",
      " 14  RoundTripCount    1343221 non-null  float64\n",
      "dtypes: float64(7), int64(2), object(2), uint8(4)\n",
      "memory usage: 117.9+ MB\n"
     ]
    }
   ],
   "source": [
    "df_grouped = df_grouped.rename(columns = { 'TicketNum' : 'TripCount', 'BaseFareAmt' : 'AvgBaseFare', 'suppFare' : 'AvgSuppFare',\n",
    "                            'Trvl_First_Class' :'FCTripCount', 'Trvld_Coach' : 'CoachTripCount', \n",
    "                             'route_code' : 'UniqueRouteCount' })\n",
    "df_grouped.info()"
   ]
  },
  {
   "cell_type": "code",
   "execution_count": null,
   "id": "7378262e",
   "metadata": {
    "id": "7378262e"
   },
   "outputs": [],
   "source": [
    "numeric_cols = ['TripCount', 'AvgBaseFare','AvgSuppFare', 'BookTravelDays', 'FCTripCount','CoachTripCount',\n",
    "                'Age', 'MemberSince', 'miles','UniqueRouteCount']"
   ]
  },
  {
   "cell_type": "code",
   "execution_count": null,
   "id": "7PPIsxb5tOKP",
   "metadata": {
    "id": "7PPIsxb5tOKP"
   },
   "outputs": [],
   "source": []
  },
  {
   "cell_type": "code",
   "execution_count": null,
   "id": "4423eaa7",
   "metadata": {
    "id": "4423eaa7",
    "outputId": "f6f2e35d-04c0-4a80-8939-7c2acaa6bbd6"
   },
   "outputs": [
    {
     "data": {
      "text/plain": [
       "1343221"
      ]
     },
     "execution_count": 253,
     "metadata": {},
     "output_type": "execute_result"
    }
   ],
   "source": [
    "len(df_grouped)"
   ]
  },
  {
   "cell_type": "markdown",
   "id": "1a4de1bb",
   "metadata": {
    "id": "1a4de1bb"
   },
   "source": [
    "# Part - C\n",
    "# Clustering Analysis on 1.34 Million customer profiles\n",
    "\n",
    "### Each record in the transformed and aggregated data (df_grouped) uniquely represents a customer \n",
    "\n",
    "### (Performing both K-Means and GMM clustering as customer profile consists of only numerical data columns)\n"
   ]
  },
  {
   "cell_type": "code",
   "execution_count": null,
   "id": "6faeb192",
   "metadata": {
    "id": "6faeb192"
   },
   "outputs": [],
   "source": [
    "from sklearn.cluster import KMeans\n",
    "from random import sample, seed\n",
    "from sklearn.preprocessing import StandardScaler"
   ]
  },
  {
   "cell_type": "markdown",
   "id": "539d9948",
   "metadata": {
    "id": "539d9948"
   },
   "source": [
    "## 1. K-Means"
   ]
  },
  {
   "cell_type": "code",
   "execution_count": null,
   "id": "a1de3971",
   "metadata": {
    "id": "a1de3971"
   },
   "outputs": [],
   "source": [
    "scaler = StandardScaler()\n",
    "df_scale = df_grouped.copy()\n",
    "df_scale[numeric_cols] = scaler.fit_transform(df_grouped[numeric_cols])"
   ]
  },
  {
   "cell_type": "code",
   "execution_count": null,
   "id": "f5f2733b",
   "metadata": {
    "id": "f5f2733b"
   },
   "outputs": [],
   "source": [
    "# To identify the optimal clusters for this dataset, we are downsampling 10% of data \n",
    "\n",
    "df_sample = df_grouped.sample(100000)\n",
    "df_sample_scale = df_sample.copy()\n",
    "df_sample_scale[numeric_cols] = scaler.fit_transform(df_sample[numeric_cols])"
   ]
  },
  {
   "cell_type": "code",
   "execution_count": null,
   "id": "133bb931",
   "metadata": {
    "id": "133bb931"
   },
   "outputs": [],
   "source": [
    "distortions = []\n",
    "\n",
    "K = range(1, 10)\n",
    "  \n",
    "for k in K:\n",
    "    # Building and fitting the model\n",
    "    kmeanModel = KMeans(n_clusters=k)\n",
    "    kmeanModel.fit(df_sample_scale.iloc[:,2:14])\n",
    "  \n",
    "    distortions.append(kmeanModel.inertia_)\n"
   ]
  },
  {
   "cell_type": "code",
   "execution_count": null,
   "id": "69845c87",
   "metadata": {
    "id": "69845c87",
    "outputId": "718efaa0-f96a-425a-d632-c2d28f002131"
   },
   "outputs": [
    {
     "data": {
      "image/png": "[encoded data removed]",
      "text/plain": [
       "<Figure size 1152x576 with 1 Axes>"
      ]
     },
     "metadata": {
      "needs_background": "light"
     },
     "output_type": "display_data"
    }
   ],
   "source": [
    "# Using SSE Elbow curve to identify the optimal number of clusters\n",
    "\n",
    "plt.figure(figsize=(16,8))\n",
    "plt.plot(K, distortions, 'bx-')\n",
    "plt.xlabel('k')\n",
    "plt.ylabel('Distortion')\n",
    "plt.title('The Elbow Method showing the optimal k')\n",
    "plt.show()"
   ]
  },
  {
   "cell_type": "code",
   "execution_count": null,
   "id": "83f0ac2b",
   "metadata": {
    "id": "83f0ac2b",
    "outputId": "a278875e-87a6-46e3-d2db-c5b593310223"
   },
   "outputs": [
    {
     "data": {
      "text/plain": [
       "3    730508\n",
       "1    399869\n",
       "0    198753\n",
       "2     14091\n",
       "Name: cluster, dtype: int64"
      ]
     },
     "execution_count": 270,
     "metadata": {},
     "output_type": "execute_result"
    }
   ],
   "source": [
    "kmeans = KMeans(n_clusters=4, random_state = 1)\n",
    "preds = kmeans.fit_predict(df_scale.iloc[:,2:14])\n",
    "\n",
    "df_grouped['cluster'] = preds\n",
    "df_grouped['cluster'].value_counts()"
   ]
  },
  {
   "cell_type": "code",
   "execution_count": null,
   "id": "ed60bf11",
   "metadata": {
    "id": "ed60bf11",
    "outputId": "9de87a6e-1f4f-4127-e8b4-e61ebfa00b27"
   },
   "outputs": [
    {
     "data": {
      "text/html": [
       "<div>\n",
       "<style scoped>\n",
       "    .dataframe tbody tr th:only-of-type {\n",
       "        vertical-align: middle;\n",
       "    }\n",
       "\n",
       "    .dataframe tbody tr th {\n",
       "        vertical-align: top;\n",
       "    }\n",
       "\n",
       "    .dataframe thead th {\n",
       "        text-align: right;\n",
       "    }\n",
       "</style>\n",
       "<table border=\"1\" class=\"dataframe\">\n",
       "  <thead>\n",
       "    <tr style=\"text-align: right;\">\n",
       "      <th></th>\n",
       "      <th>TripCount</th>\n",
       "      <th>AvgBaseFare</th>\n",
       "      <th>AvgSuppFare</th>\n",
       "      <th>BookTravelDays</th>\n",
       "      <th>FCTripCount</th>\n",
       "      <th>CoachTripCount</th>\n",
       "      <th>Age</th>\n",
       "      <th>Ufly_Elite</th>\n",
       "      <th>Ufly_Standard</th>\n",
       "      <th>MemberSince</th>\n",
       "      <th>miles</th>\n",
       "      <th>UniqueRouteCount</th>\n",
       "      <th>RoundTripCount</th>\n",
       "    </tr>\n",
       "    <tr>\n",
       "      <th>cluster</th>\n",
       "      <th></th>\n",
       "      <th></th>\n",
       "      <th></th>\n",
       "      <th></th>\n",
       "      <th></th>\n",
       "      <th></th>\n",
       "      <th></th>\n",
       "      <th></th>\n",
       "      <th></th>\n",
       "      <th></th>\n",
       "      <th></th>\n",
       "      <th></th>\n",
       "      <th></th>\n",
       "    </tr>\n",
       "  </thead>\n",
       "  <tbody>\n",
       "    <tr>\n",
       "      <th>0</th>\n",
       "      <td>4.760582</td>\n",
       "      <td>294.896010</td>\n",
       "      <td>45.872583</td>\n",
       "      <td>58.357523</td>\n",
       "      <td>0.291291</td>\n",
       "      <td>4.469291</td>\n",
       "      <td>42.808934</td>\n",
       "      <td>0.000418</td>\n",
       "      <td>0.406600</td>\n",
       "      <td>539.581454</td>\n",
       "      <td>6195.392070</td>\n",
       "      <td>3.497507</td>\n",
       "      <td>0.645037</td>\n",
       "    </tr>\n",
       "    <tr>\n",
       "      <th>1</th>\n",
       "      <td>2.070030</td>\n",
       "      <td>408.928778</td>\n",
       "      <td>59.196775</td>\n",
       "      <td>99.520312</td>\n",
       "      <td>0.187539</td>\n",
       "      <td>1.882492</td>\n",
       "      <td>38.643408</td>\n",
       "      <td>0.000275</td>\n",
       "      <td>0.158254</td>\n",
       "      <td>195.471854</td>\n",
       "      <td>2967.158352</td>\n",
       "      <td>1.972874</td>\n",
       "      <td>0.149837</td>\n",
       "    </tr>\n",
       "    <tr>\n",
       "      <th>2</th>\n",
       "      <td>13.433255</td>\n",
       "      <td>331.681466</td>\n",
       "      <td>46.072019</td>\n",
       "      <td>54.137995</td>\n",
       "      <td>4.212760</td>\n",
       "      <td>9.220495</td>\n",
       "      <td>50.059896</td>\n",
       "      <td>0.031651</td>\n",
       "      <td>0.842240</td>\n",
       "      <td>1426.493463</td>\n",
       "      <td>17066.304521</td>\n",
       "      <td>5.012064</td>\n",
       "      <td>3.055071</td>\n",
       "    </tr>\n",
       "    <tr>\n",
       "      <th>3</th>\n",
       "      <td>1.772487</td>\n",
       "      <td>190.186372</td>\n",
       "      <td>30.052527</td>\n",
       "      <td>34.655203</td>\n",
       "      <td>0.076407</td>\n",
       "      <td>1.696080</td>\n",
       "      <td>38.125132</td>\n",
       "      <td>0.000141</td>\n",
       "      <td>0.086473</td>\n",
       "      <td>87.436556</td>\n",
       "      <td>2183.430932</td>\n",
       "      <td>1.714141</td>\n",
       "      <td>0.531384</td>\n",
       "    </tr>\n",
       "  </tbody>\n",
       "</table>\n",
       "</div>"
      ],
      "text/plain": [
       "         TripCount  AvgBaseFare  AvgSuppFare  BookTravelDays  FCTripCount  \\\n",
       "cluster                                                                     \n",
       "0         4.760582   294.896010    45.872583       58.357523     0.291291   \n",
       "1         2.070030   408.928778    59.196775       99.520312     0.187539   \n",
       "2        13.433255   331.681466    46.072019       54.137995     4.212760   \n",
       "3         1.772487   190.186372    30.052527       34.655203     0.076407   \n",
       "\n",
       "         CoachTripCount        Age  Ufly_Elite  Ufly_Standard  MemberSince  \\\n",
       "cluster                                                                      \n",
       "0              4.469291  42.808934    0.000418       0.406600   539.581454   \n",
       "1              1.882492  38.643408    0.000275       0.158254   195.471854   \n",
       "2              9.220495  50.059896    0.031651       0.842240  1426.493463   \n",
       "3              1.696080  38.125132    0.000141       0.086473    87.436556   \n",
       "\n",
       "                miles  UniqueRouteCount  RoundTripCount  \n",
       "cluster                                                  \n",
       "0         6195.392070          3.497507        0.645037  \n",
       "1         2967.158352          1.972874        0.149837  \n",
       "2        17066.304521          5.012064        3.055071  \n",
       "3         2183.430932          1.714141        0.531384  "
      ]
     },
     "execution_count": 271,
     "metadata": {},
     "output_type": "execute_result"
    }
   ],
   "source": [
    "df_grouped.groupby('cluster').mean()"
   ]
  },
  {
   "cell_type": "code",
   "execution_count": null,
   "id": "6a1721bf",
   "metadata": {
    "id": "6a1721bf"
   },
   "outputs": [],
   "source": [
    "df_km = df_grouped.copy()"
   ]
  },
  {
   "cell_type": "code",
   "execution_count": null,
   "id": "5ee2f2a6",
   "metadata": {
    "id": "5ee2f2a6"
   },
   "outputs": [],
   "source": [
    "df_grouped.to_csv('S:/Fall/Final_Clusters.csv')"
   ]
  },
  {
   "cell_type": "markdown",
   "id": "97997023",
   "metadata": {
    "id": "97997023"
   },
   "source": [
    "##  2. Gaussian Mixture model (GMM) clustering"
   ]
  },
  {
   "cell_type": "code",
   "execution_count": null,
   "id": "31b1d908",
   "metadata": {
    "id": "31b1d908"
   },
   "outputs": [],
   "source": [
    "from sklearn.mixture import GaussianMixture\n",
    "from sklearn.preprocessing import MinMaxScaler"
   ]
  },
  {
   "cell_type": "code",
   "execution_count": null,
   "id": "7cfac3a2",
   "metadata": {
    "id": "7cfac3a2"
   },
   "outputs": [],
   "source": [
    "df_normalized = MinMaxScaler().fit(df_grouped[numeric_cols]).transform(df_grouped[numeric_cols])\n",
    "\n",
    "## Exercise: use GaussianMixture (cluster number = 3) to train and assign cluster with the highest probability\n",
    "\n",
    "cls = GaussianMixture(n_components = 4)\n",
    "cls_assignment = cls.fit_predict(df_normalized)\n",
    "# cls_assignment."
   ]
  },
  {
   "cell_type": "code",
   "execution_count": null,
   "id": "deaef36b",
   "metadata": {
    "id": "deaef36b",
    "outputId": "581adde9-fa51-4069-ddb9-c58d308855ad"
   },
   "outputs": [
    {
     "data": {
      "text/plain": [
       "3    902075\n",
       "0    211467\n",
       "2    126621\n",
       "1    103058\n",
       "Name: cluster, dtype: int64"
      ]
     },
     "execution_count": 93,
     "metadata": {},
     "output_type": "execute_result"
    }
   ],
   "source": [
    "df_grouped['cluster'] = cls_assignment\n",
    "df_grouped['cluster'].value_counts()"
   ]
  },
  {
   "cell_type": "code",
   "execution_count": null,
   "id": "8f945e06",
   "metadata": {
    "id": "8f945e06",
    "outputId": "e2cf74df-d7d3-4f90-c7bc-5e90e8b719ed"
   },
   "outputs": [
    {
     "data": {
      "text/html": [
       "<div>\n",
       "<style scoped>\n",
       "    .dataframe tbody tr th:only-of-type {\n",
       "        vertical-align: middle;\n",
       "    }\n",
       "\n",
       "    .dataframe tbody tr th {\n",
       "        vertical-align: top;\n",
       "    }\n",
       "\n",
       "    .dataframe thead th {\n",
       "        text-align: right;\n",
       "    }\n",
       "</style>\n",
       "<table border=\"1\" class=\"dataframe\">\n",
       "  <thead>\n",
       "    <tr style=\"text-align: right;\">\n",
       "      <th></th>\n",
       "      <th>TripCount</th>\n",
       "      <th>AvgBaseFare</th>\n",
       "      <th>AvgSuppFare</th>\n",
       "      <th>BookTravelDays</th>\n",
       "      <th>FCTripCount</th>\n",
       "      <th>CoachTripCount</th>\n",
       "      <th>Age</th>\n",
       "      <th>Ufly_Elite</th>\n",
       "      <th>Ufly_Standard</th>\n",
       "      <th>MemberSince</th>\n",
       "      <th>miles</th>\n",
       "      <th>UniqueRouteCount</th>\n",
       "    </tr>\n",
       "    <tr>\n",
       "      <th>cluster</th>\n",
       "      <th></th>\n",
       "      <th></th>\n",
       "      <th></th>\n",
       "      <th></th>\n",
       "      <th></th>\n",
       "      <th></th>\n",
       "      <th></th>\n",
       "      <th></th>\n",
       "      <th></th>\n",
       "      <th></th>\n",
       "      <th></th>\n",
       "      <th></th>\n",
       "    </tr>\n",
       "  </thead>\n",
       "  <tbody>\n",
       "    <tr>\n",
       "      <th>0</th>\n",
       "      <td>3.496503</td>\n",
       "      <td>310.368528</td>\n",
       "      <td>45.538025</td>\n",
       "      <td>53.140549</td>\n",
       "      <td>0.483659</td>\n",
       "      <td>3.012844</td>\n",
       "      <td>41.359380</td>\n",
       "      <td>0.000000</td>\n",
       "      <td>0.000000</td>\n",
       "      <td>0.000000</td>\n",
       "      <td>4484.753801</td>\n",
       "      <td>2.776703</td>\n",
       "    </tr>\n",
       "    <tr>\n",
       "      <th>1</th>\n",
       "      <td>5.907149</td>\n",
       "      <td>315.278540</td>\n",
       "      <td>44.944147</td>\n",
       "      <td>61.330247</td>\n",
       "      <td>1.414553</td>\n",
       "      <td>4.492596</td>\n",
       "      <td>46.959101</td>\n",
       "      <td>0.006249</td>\n",
       "      <td>0.906121</td>\n",
       "      <td>1205.292871</td>\n",
       "      <td>7498.033214</td>\n",
       "      <td>3.006521</td>\n",
       "    </tr>\n",
       "    <tr>\n",
       "      <th>2</th>\n",
       "      <td>2.307485</td>\n",
       "      <td>276.313646</td>\n",
       "      <td>43.220936</td>\n",
       "      <td>70.965362</td>\n",
       "      <td>0.000008</td>\n",
       "      <td>2.307477</td>\n",
       "      <td>41.233295</td>\n",
       "      <td>0.000774</td>\n",
       "      <td>0.993090</td>\n",
       "      <td>1146.453984</td>\n",
       "      <td>3125.428547</td>\n",
       "      <td>2.307461</td>\n",
       "    </tr>\n",
       "    <tr>\n",
       "      <th>3</th>\n",
       "      <td>1.793282</td>\n",
       "      <td>257.876574</td>\n",
       "      <td>39.527489</td>\n",
       "      <td>56.457425</td>\n",
       "      <td>0.000004</td>\n",
       "      <td>1.793278</td>\n",
       "      <td>37.369572</td>\n",
       "      <td>0.000000</td>\n",
       "      <td>0.000002</td>\n",
       "      <td>0.000186</td>\n",
       "      <td>2368.392690</td>\n",
       "      <td>1.793254</td>\n",
       "    </tr>\n",
       "  </tbody>\n",
       "</table>\n",
       "</div>"
      ],
      "text/plain": [
       "         TripCount  AvgBaseFare  AvgSuppFare  BookTravelDays  FCTripCount  \\\n",
       "cluster                                                                     \n",
       "0         3.496503   310.368528    45.538025       53.140549     0.483659   \n",
       "1         5.907149   315.278540    44.944147       61.330247     1.414553   \n",
       "2         2.307485   276.313646    43.220936       70.965362     0.000008   \n",
       "3         1.793282   257.876574    39.527489       56.457425     0.000004   \n",
       "\n",
       "         CoachTripCount        Age  Ufly_Elite  Ufly_Standard  MemberSince  \\\n",
       "cluster                                                                      \n",
       "0              3.012844  41.359380    0.000000       0.000000     0.000000   \n",
       "1              4.492596  46.959101    0.006249       0.906121  1205.292871   \n",
       "2              2.307477  41.233295    0.000774       0.993090  1146.453984   \n",
       "3              1.793278  37.369572    0.000000       0.000002     0.000186   \n",
       "\n",
       "               miles  UniqueRouteCount  \n",
       "cluster                                 \n",
       "0        4484.753801          2.776703  \n",
       "1        7498.033214          3.006521  \n",
       "2        3125.428547          2.307461  \n",
       "3        2368.392690          1.793254  "
      ]
     },
     "execution_count": 94,
     "metadata": {},
     "output_type": "execute_result"
    }
   ],
   "source": [
    "df_grouped.groupby('cluster').mean()"
   ]
  },
  {
   "cell_type": "code",
   "execution_count": null,
   "id": "a05176de",
   "metadata": {
    "id": "a05176de",
    "outputId": "e9eee935-89f0-41ce-e354-59f888452f54"
   },
   "outputs": [
    {
     "data": {
      "text/plain": [
       "1343221"
      ]
     },
     "execution_count": 177,
     "metadata": {},
     "output_type": "execute_result"
    }
   ],
   "source": [
    "# Creating a copy of K-means cluster results\n",
    "df_km = df_grouped.copy()\n",
    "len(df_km)"
   ]
  },
  {
   "cell_type": "markdown",
   "id": "7808e3c4",
   "metadata": {
    "id": "7808e3c4"
   },
   "source": [
    "### After feature level comparison of each cluster between K-means and GMM models, it is clear that K-means clusters are interpretable and distinct. (GMM clusters have least varied features among several features such as TripCount, AvgSuppFare etc)\n",
    "\n",
    "### K-Means clusters serve the primary purpose of drawing critical insights and thereby build recommendations, that are actionable by Sun Country airlines."
   ]
  },
  {
   "cell_type": "markdown",
   "id": "43c72e71",
   "metadata": {
    "id": "43c72e71"
   },
   "source": [
    "# Part - D\n",
    "# Cluster Interpretation"
   ]
  },
  {
   "cell_type": "code",
   "execution_count": null,
   "id": "b04f7495",
   "metadata": {
    "id": "b04f7495",
    "outputId": "d85ae9fe-a4ed-45fa-9896-32dd5ebda8e2"
   },
   "outputs": [
    {
     "data": {
      "image/png": "[encoded data removed]",
      "text/plain": [
       "<Figure size 720x576 with 4 Axes>"
      ]
     },
     "metadata": {
      "needs_background": "light"
     },
     "output_type": "display_data"
    }
   ],
   "source": [
    "sns.color_palette(\"mako\", as_cmap=True)\n",
    "fig, ax = plt.subplots(2,2, figsize = (10,8))\n",
    "sns.histplot(data = df_km[df_km['cluster']==3], x='Age', ax = ax[0,0], palette=\"Pastel1\", element = 'step', alpha = 0.6 )\n",
    "sns.histplot(data = df_km[df_km['cluster']==2], x='Age', ax = ax[0,1], palette = 'Pastel1', color = 'orange', element = 'step', alpha = 0.6 )\n",
    "sns.histplot(data = df_km[df_km['cluster']==0], x='Age', ax = ax[1,0], palette = 'Pastel1', color = 'green', element = 'step', alpha = 0.6)\n",
    "sns.histplot(data = df_km[df_km['cluster']==1], x='Age', ax = ax[1,1], palette = 'Pastel1', color = 'red', element = 'step', alpha = 0.6)\n",
    "ax[0,0].set_title('Cost Conscious Frequent Flyers')\n",
    "ax[0,1].set_title('Premium Frequent Flyer (Elite)')\n",
    "ax[1,0].set_title('Need Based')\n",
    "ax[1,1].set_title('Long Distance')\n",
    "\n",
    "ax[0,0].axvline(x=df_km[df_km['cluster']==1]['Age'].mean(), linewidth=0.9, color='r', linestyle = '--')\n",
    "ax[0,1].axvline(x=df_km[df_km['cluster']==3]['Age'].mean(), linewidth=0.9, color='r', linestyle = '--')\n",
    "ax[1,0].axvline(x=df_km[df_km['cluster']==0]['Age'].mean(), linewidth=0.9, color='r', linestyle = '--')\n",
    "ax[1,1].axvline(x=df_km[df_km['cluster']==2]['Age'].mean(), linewidth=0.9, color='r', linestyle = '--')\n",
    "plt.tight_layout()"
   ]
  },
  {
   "cell_type": "code",
   "execution_count": null,
   "id": "852a3cf0",
   "metadata": {
    "id": "852a3cf0",
    "outputId": "a161058a-a4b2-4eb5-db4f-f6bfd54c42f8",
    "scrolled": true
   },
   "outputs": [
    {
     "data": {
      "image/png": "[encoded data removed]",
      "text/plain": [
       "<Figure size 720x576 with 4 Axes>"
      ]
     },
     "metadata": {
      "needs_background": "light"
     },
     "output_type": "display_data"
    }
   ],
   "source": [
    "sns.color_palette(\"mako\", as_cmap=True)\n",
    "fig, ax = plt.subplots(2,2, figsize = (10,8))\n",
    "sns.histplot(data = df_km[df_km['cluster']==1], x='BookTravelDays', ax = ax[0,0], palette=\"Pastel1\", element = 'step', alpha = 0.6 )\n",
    "sns.histplot(data = df_km[df_km['cluster']==3], x='BookTravelDays', ax = ax[0,1], palette = 'Pastel1', color = 'orange', element = 'step', alpha = 0.6 )\n",
    "sns.histplot(data = df_km[df_km['cluster']==0], x='BookTravelDays', ax = ax[1,0], palette = 'Pastel1', color = 'grey', element = 'step', alpha = 0.6)\n",
    "sns.histplot(data = df_km[df_km['cluster']==2], x='BookTravelDays', ax = ax[1,1], palette = 'Pastel1', color = 'green', element = 'step', alpha = 0.6)\n",
    "ax[0,0].set_title('Cost Conscious Frequent Flyers')\n",
    "ax[0,1].set_title('Premium Frequent Flyer (Elite)')\n",
    "ax[1,0].set_title('Need Based')\n",
    "ax[1,1].set_title('Long Distance')\n",
    "\n",
    "\n",
    "ax[0,0].set_xlim(0,300)\n",
    "ax[0,1].set_xlim(0,300)\n",
    "ax[1,0].set_xlim(0,300)\n",
    "ax[1,1].set_xlim(0,300)\n",
    "\n",
    "ax[0,0].axvline(x=df_km[df_km['cluster']==1]['BookTravelDays'].mean(), linewidth=0.9, color='r', linestyle = '--')\n",
    "ax[0,1].axvline(x=df_km[df_km['cluster']==3]['BookTravelDays'].mean(), linewidth=0.9, color='r', linestyle = '--')\n",
    "ax[1,0].axvline(x=df_km[df_km['cluster']==0]['BookTravelDays'].mean(), linewidth=0.9, color='r', linestyle = '--')\n",
    "ax[1,1].axvline(x=df_km[df_km['cluster']==2]['BookTravelDays'].mean(), linewidth=0.9, color='r', linestyle = '--')\n",
    "\n",
    "plt.tight_layout()"
   ]
  },
  {
   "cell_type": "markdown",
   "id": "958922c0",
   "metadata": {
    "id": "958922c0"
   },
   "source": []
  },
  {
   "cell_type": "code",
   "execution_count": null,
   "id": "9db01501",
   "metadata": {
    "id": "9db01501",
    "outputId": "963094ed-912f-446c-e9b1-69f6aa10278c"
   },
   "outputs": [
    {
     "data": {
      "text/html": [
       "<div>\n",
       "<style scoped>\n",
       "    .dataframe tbody tr th:only-of-type {\n",
       "        vertical-align: middle;\n",
       "    }\n",
       "\n",
       "    .dataframe tbody tr th {\n",
       "        vertical-align: top;\n",
       "    }\n",
       "\n",
       "    .dataframe thead th {\n",
       "        text-align: right;\n",
       "    }\n",
       "</style>\n",
       "<table border=\"1\" class=\"dataframe\">\n",
       "  <thead>\n",
       "    <tr style=\"text-align: right;\">\n",
       "      <th></th>\n",
       "      <th>TripCount</th>\n",
       "      <th>AvgBaseFare</th>\n",
       "      <th>AvgSuppFare</th>\n",
       "      <th>BookTravelDays</th>\n",
       "      <th>FCTripCount</th>\n",
       "      <th>CoachTripCount</th>\n",
       "      <th>Age</th>\n",
       "      <th>Ufly_Elite</th>\n",
       "      <th>Ufly_Standard</th>\n",
       "      <th>MemberSince</th>\n",
       "      <th>miles</th>\n",
       "      <th>UniqueRouteCount</th>\n",
       "      <th>RoundTripCount</th>\n",
       "    </tr>\n",
       "    <tr>\n",
       "      <th>cluster</th>\n",
       "      <th></th>\n",
       "      <th></th>\n",
       "      <th></th>\n",
       "      <th></th>\n",
       "      <th></th>\n",
       "      <th></th>\n",
       "      <th></th>\n",
       "      <th></th>\n",
       "      <th></th>\n",
       "      <th></th>\n",
       "      <th></th>\n",
       "      <th></th>\n",
       "      <th></th>\n",
       "    </tr>\n",
       "  </thead>\n",
       "  <tbody>\n",
       "    <tr>\n",
       "      <th>0</th>\n",
       "      <td>4.760582</td>\n",
       "      <td>294.896010</td>\n",
       "      <td>45.872583</td>\n",
       "      <td>58.357523</td>\n",
       "      <td>0.291291</td>\n",
       "      <td>4.469291</td>\n",
       "      <td>42.808934</td>\n",
       "      <td>0.000418</td>\n",
       "      <td>0.406600</td>\n",
       "      <td>539.581454</td>\n",
       "      <td>6195.392070</td>\n",
       "      <td>3.497507</td>\n",
       "      <td>0.645037</td>\n",
       "    </tr>\n",
       "    <tr>\n",
       "      <th>1</th>\n",
       "      <td>2.070030</td>\n",
       "      <td>408.928778</td>\n",
       "      <td>59.196775</td>\n",
       "      <td>99.520312</td>\n",
       "      <td>0.187539</td>\n",
       "      <td>1.882492</td>\n",
       "      <td>38.643408</td>\n",
       "      <td>0.000275</td>\n",
       "      <td>0.158254</td>\n",
       "      <td>195.471854</td>\n",
       "      <td>2967.158352</td>\n",
       "      <td>1.972874</td>\n",
       "      <td>0.149837</td>\n",
       "    </tr>\n",
       "    <tr>\n",
       "      <th>2</th>\n",
       "      <td>13.433255</td>\n",
       "      <td>331.681466</td>\n",
       "      <td>46.072019</td>\n",
       "      <td>54.137995</td>\n",
       "      <td>4.212760</td>\n",
       "      <td>9.220495</td>\n",
       "      <td>50.059896</td>\n",
       "      <td>0.031651</td>\n",
       "      <td>0.842240</td>\n",
       "      <td>1426.493463</td>\n",
       "      <td>17066.304521</td>\n",
       "      <td>5.012064</td>\n",
       "      <td>3.055071</td>\n",
       "    </tr>\n",
       "    <tr>\n",
       "      <th>3</th>\n",
       "      <td>1.772487</td>\n",
       "      <td>190.186372</td>\n",
       "      <td>30.052527</td>\n",
       "      <td>34.655203</td>\n",
       "      <td>0.076407</td>\n",
       "      <td>1.696080</td>\n",
       "      <td>38.125132</td>\n",
       "      <td>0.000141</td>\n",
       "      <td>0.086473</td>\n",
       "      <td>87.436556</td>\n",
       "      <td>2183.430932</td>\n",
       "      <td>1.714141</td>\n",
       "      <td>0.531384</td>\n",
       "    </tr>\n",
       "  </tbody>\n",
       "</table>\n",
       "</div>"
      ],
      "text/plain": [
       "         TripCount  AvgBaseFare  AvgSuppFare  BookTravelDays  FCTripCount  \\\n",
       "cluster                                                                     \n",
       "0         4.760582   294.896010    45.872583       58.357523     0.291291   \n",
       "1         2.070030   408.928778    59.196775       99.520312     0.187539   \n",
       "2        13.433255   331.681466    46.072019       54.137995     4.212760   \n",
       "3         1.772487   190.186372    30.052527       34.655203     0.076407   \n",
       "\n",
       "         CoachTripCount        Age  Ufly_Elite  Ufly_Standard  MemberSince  \\\n",
       "cluster                                                                      \n",
       "0              4.469291  42.808934    0.000418       0.406600   539.581454   \n",
       "1              1.882492  38.643408    0.000275       0.158254   195.471854   \n",
       "2              9.220495  50.059896    0.031651       0.842240  1426.493463   \n",
       "3              1.696080  38.125132    0.000141       0.086473    87.436556   \n",
       "\n",
       "                miles  UniqueRouteCount  RoundTripCount  \n",
       "cluster                                                  \n",
       "0         6195.392070          3.497507        0.645037  \n",
       "1         2967.158352          1.972874        0.149837  \n",
       "2        17066.304521          5.012064        3.055071  \n",
       "3         2183.430932          1.714141        0.531384  "
      ]
     },
     "execution_count": 274,
     "metadata": {},
     "output_type": "execute_result"
    }
   ],
   "source": [
    "df_agg = df_km.groupby('cluster').mean()\n",
    "df_agg"
   ]
  },
  {
   "cell_type": "code",
   "execution_count": null,
   "id": "9c20cff1",
   "metadata": {
    "id": "9c20cff1",
    "outputId": "56cd01fd-29e9-4e9c-cf13-99211e82146d"
   },
   "outputs": [
    {
     "data": {
      "text/plain": [
       "cluster\n",
       "0    1301.393773\n",
       "1    1433.388757\n",
       "2    1270.451888\n",
       "3    1231.845886\n",
       "Name: AvgTripDistance, dtype: float64"
      ]
     },
     "execution_count": 275,
     "metadata": {},
     "output_type": "execute_result"
    }
   ],
   "source": [
    "# Cluster 1 is identified as long distance flights\n",
    "df_agg['AvgTripDistance'] = df_agg.apply(lambda row : row['miles']/row['TripCount'], axis = 1)\n",
    "df_agg['AvgTripDistance'] "
   ]
  },
  {
   "cell_type": "markdown",
   "id": "76cd1eef",
   "metadata": {
    "id": "76cd1eef"
   },
   "source": [
    "### For Cluster 1 - Identifying the possible destinations from MSP such as San Fransico, Cancun, Anchorage, Palm Springs etc... presenting a pattern of Sunny vacation destinations"
   ]
  },
  {
   "cell_type": "code",
   "execution_count": null,
   "id": "6ca495be",
   "metadata": {
    "id": "6ca495be",
    "outputId": "348e7cb4-151d-4393-ae5a-aa2df217e693"
   },
   "outputs": [
    {
     "data": {
      "text/html": [
       "<div>\n",
       "<style scoped>\n",
       "    .dataframe tbody tr th:only-of-type {\n",
       "        vertical-align: middle;\n",
       "    }\n",
       "\n",
       "    .dataframe tbody tr th {\n",
       "        vertical-align: top;\n",
       "    }\n",
       "\n",
       "    .dataframe thead th {\n",
       "        text-align: right;\n",
       "    }\n",
       "</style>\n",
       "<table border=\"1\" class=\"dataframe\">\n",
       "  <thead>\n",
       "    <tr style=\"text-align: right;\">\n",
       "      <th></th>\n",
       "      <th>origin</th>\n",
       "      <th>dest</th>\n",
       "      <th>miles</th>\n",
       "    </tr>\n",
       "  </thead>\n",
       "  <tbody>\n",
       "    <tr>\n",
       "      <th>2</th>\n",
       "      <td>MSP</td>\n",
       "      <td>SFO</td>\n",
       "      <td>1589</td>\n",
       "    </tr>\n",
       "    <tr>\n",
       "      <th>21</th>\n",
       "      <td>MSP</td>\n",
       "      <td>CUN</td>\n",
       "      <td>1683</td>\n",
       "    </tr>\n",
       "    <tr>\n",
       "      <th>23</th>\n",
       "      <td>MSP</td>\n",
       "      <td>RSW</td>\n",
       "      <td>1416</td>\n",
       "    </tr>\n",
       "    <tr>\n",
       "      <th>25</th>\n",
       "      <td>MSP</td>\n",
       "      <td>ANC</td>\n",
       "      <td>2518</td>\n",
       "    </tr>\n",
       "    <tr>\n",
       "      <th>31</th>\n",
       "      <td>MSP</td>\n",
       "      <td>SXM</td>\n",
       "      <td>2537</td>\n",
       "    </tr>\n",
       "    <tr>\n",
       "      <th>32</th>\n",
       "      <td>MSP</td>\n",
       "      <td>LAX</td>\n",
       "      <td>1535</td>\n",
       "    </tr>\n",
       "    <tr>\n",
       "      <th>33</th>\n",
       "      <td>MSP</td>\n",
       "      <td>CZM</td>\n",
       "      <td>1717</td>\n",
       "    </tr>\n",
       "    <tr>\n",
       "      <th>35</th>\n",
       "      <td>MSP</td>\n",
       "      <td>PSP</td>\n",
       "      <td>1454</td>\n",
       "    </tr>\n",
       "    <tr>\n",
       "      <th>37</th>\n",
       "      <td>MSP</td>\n",
       "      <td>MIA</td>\n",
       "      <td>1501</td>\n",
       "    </tr>\n",
       "    <tr>\n",
       "      <th>40</th>\n",
       "      <td>MSP</td>\n",
       "      <td>PUJ</td>\n",
       "      <td>2311</td>\n",
       "    </tr>\n",
       "    <tr>\n",
       "      <th>47</th>\n",
       "      <td>MSP</td>\n",
       "      <td>SAN</td>\n",
       "      <td>1532</td>\n",
       "    </tr>\n",
       "    <tr>\n",
       "      <th>60</th>\n",
       "      <td>MSP</td>\n",
       "      <td>LIR</td>\n",
       "      <td>2405</td>\n",
       "    </tr>\n",
       "    <tr>\n",
       "      <th>65</th>\n",
       "      <td>MSP</td>\n",
       "      <td>ZIH</td>\n",
       "      <td>1939</td>\n",
       "    </tr>\n",
       "    <tr>\n",
       "      <th>69</th>\n",
       "      <td>MSP</td>\n",
       "      <td>MZT</td>\n",
       "      <td>1669</td>\n",
       "    </tr>\n",
       "    <tr>\n",
       "      <th>72</th>\n",
       "      <td>MSP</td>\n",
       "      <td>MBJ</td>\n",
       "      <td>2021</td>\n",
       "    </tr>\n",
       "    <tr>\n",
       "      <th>78</th>\n",
       "      <td>MSP</td>\n",
       "      <td>PVR</td>\n",
       "      <td>1804</td>\n",
       "    </tr>\n",
       "    <tr>\n",
       "      <th>81</th>\n",
       "      <td>MSP</td>\n",
       "      <td>SJD</td>\n",
       "      <td>1764</td>\n",
       "    </tr>\n",
       "    <tr>\n",
       "      <th>82</th>\n",
       "      <td>MSP</td>\n",
       "      <td>STT</td>\n",
       "      <td>2449</td>\n",
       "    </tr>\n",
       "    <tr>\n",
       "      <th>85</th>\n",
       "      <td>MSP</td>\n",
       "      <td>HUX</td>\n",
       "      <td>2013</td>\n",
       "    </tr>\n",
       "    <tr>\n",
       "      <th>92</th>\n",
       "      <td>MSP</td>\n",
       "      <td>SJU</td>\n",
       "      <td>2404</td>\n",
       "    </tr>\n",
       "    <tr>\n",
       "      <th>197</th>\n",
       "      <td>MSP</td>\n",
       "      <td>GSZ</td>\n",
       "      <td>2657</td>\n",
       "    </tr>\n",
       "    <tr>\n",
       "      <th>229</th>\n",
       "      <td>MSP</td>\n",
       "      <td>FRA</td>\n",
       "      <td>4392</td>\n",
       "    </tr>\n",
       "    <tr>\n",
       "      <th>239</th>\n",
       "      <td>MSP</td>\n",
       "      <td>KEF</td>\n",
       "      <td>2945</td>\n",
       "    </tr>\n",
       "  </tbody>\n",
       "</table>\n",
       "</div>"
      ],
      "text/plain": [
       "    origin dest  miles\n",
       "2      MSP  SFO  1589 \n",
       "21     MSP  CUN  1683 \n",
       "23     MSP  RSW  1416 \n",
       "25     MSP  ANC  2518 \n",
       "31     MSP  SXM  2537 \n",
       "32     MSP  LAX  1535 \n",
       "33     MSP  CZM  1717 \n",
       "35     MSP  PSP  1454 \n",
       "37     MSP  MIA  1501 \n",
       "40     MSP  PUJ  2311 \n",
       "47     MSP  SAN  1532 \n",
       "60     MSP  LIR   2405\n",
       "65     MSP  ZIH  1939 \n",
       "69     MSP  MZT  1669 \n",
       "72     MSP  MBJ  2021 \n",
       "78     MSP  PVR  1804 \n",
       "81     MSP  SJD  1764 \n",
       "82     MSP  STT  2449 \n",
       "85     MSP  HUX  2013 \n",
       "92     MSP  SJU  2404 \n",
       "197    MSP  GSZ  2657 \n",
       "229    MSP  FRA  4392 \n",
       "239    MSP  KEF  2945 "
      ]
     },
     "execution_count": 152,
     "metadata": {},
     "output_type": "execute_result"
    }
   ],
   "source": [
    "# For Cluster 1 - Identifying the possible destinations from MSP such San Fransico, Cancun, Anchorage, )\n",
    "df_mile[(df_mile['miles'].astype(int)>1400) & (df_mile.origin == 'MSP')]"
   ]
  }
 ],
 "metadata": {
  "colab": {
   "provenance": []
  },
  "kernelspec": {
   "display_name": "Python 3 (ipykernel)",
   "language": "python",
   "name": "python3"
  },
  "language_info": {
   "codemirror_mode": {
    "name": "ipython",
    "version": 3
   },
   "file_extension": ".py",
   "mimetype": "text/x-python",
   "name": "python",
   "nbconvert_exporter": "python",
   "pygments_lexer": "ipython3",
   "version": "3.9.7"
  }
 },
 "nbformat": 4,
 "nbformat_minor": 5
}
